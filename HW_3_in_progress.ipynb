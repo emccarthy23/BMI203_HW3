{
 "cells": [
  {
   "cell_type": "code",
   "execution_count": 1,
   "metadata": {},
   "outputs": [],
   "source": [
    "import pandas as pd\n",
    "import numpy as np\n",
    "import os\n",
    "from sklearn.metrics import roc_curve, auc\n",
    "import matplotlib.pyplot as plt\n",
    "from random import uniform\n",
    "import time\n",
    "import random"
   ]
  },
  {
   "cell_type": "code",
   "execution_count": 2,
   "metadata": {},
   "outputs": [],
   "source": [
    "os.chdir('/Users/elizabeth/Desktop/BMI203_HW3/data')"
   ]
  },
  {
   "cell_type": "code",
   "execution_count": 3,
   "metadata": {},
   "outputs": [],
   "source": [
    "def read_pairs(file):\n",
    "    #Open the file\n",
    "    f = open ( file , 'r')\n",
    "    #Read all the lines\n",
    "    lines = f.read().splitlines()\n",
    "    #Create a list of the paired filenames\n",
    "    files = [line.split()for line in lines]\n",
    "    return files\n",
    "\n",
    "def read_sequence(file):\n",
    "    #Store protein name\n",
    "    protein_name = file.split('/')[-1][:-3]\n",
    "    #Open the file\n",
    "    f = open ( file , 'r')\n",
    "    #Read all the lines\n",
    "    lines = f.read().splitlines()\n",
    "    #Remove the header\n",
    "    lines = lines[1:]\n",
    "    #Initialize array to store sequence\n",
    "    sequence = ''\n",
    "    for line in lines:\n",
    "        sequence = sequence + line\n",
    "    sequence = sequence.upper()\n",
    "    return protein_name, sequence\n",
    "\n",
    "def read_scoring_matrix(file):\n",
    "\n",
    "    #Open the file\n",
    "    f = open ( file , 'r')\n",
    "    #Read all the lines\n",
    "    lines = f.read().splitlines()\n",
    "    #Find where the header ends\n",
    "    aa_names_index = 0\n",
    "    while lines[aa_names_index][0] == '#':\n",
    "        aa_names_index = aa_names_index +1\n",
    "    #Remove header\n",
    "    lines = lines[aa_names_index:]\n",
    "    #Initialize DataFrame to store scoring matrix\n",
    "    amino_acids = lines[0].split()\n",
    "    scoring_df = pd.DataFrame(index=amino_acids, columns=amino_acids)\n",
    "    #Store scores into dataframe\n",
    "    for line_index in range(1,len(lines)):\n",
    "        scoring_df.iloc[line_index-1] = lines[line_index].split()\n",
    "    #Convert scores to numbers from strings\n",
    "    scoring_df = scoring_df.apply(pd.to_numeric)   \n",
    "    return scoring_df\n",
    "\n",
    "def smith_waterman_alignment(path_seq_a, path_seq_b, path_scoring_matrix, gap_open, gap_extend):\n",
    "    #Read sequences and scoring matrix\n",
    "    name_a, seq_a = read_sequence(path_seq_a)\n",
    "    name_b, seq_b = read_sequence(path_seq_b)\n",
    "    cost_matrix = read_scoring_matrix(path_scoring_matrix)\n",
    "    \n",
    "    #Store value for -Inf\n",
    "    MIN = -float(\"inf\")\n",
    "    \n",
    "    \"\"\"\n",
    "    We will initialize the values for three matrices:\n",
    "    A - score for aligning seq_a and seq_b up to i,j with a gap in seq_a at position i\n",
    "    B - score for aligning seq_a and seq_b up to i,j with a gap in seq_b at position j\n",
    "    M - score for aligning seq_a and seq_b with a alignment at position i,j\n",
    "    \"\"\"\n",
    "    dim_a = len(seq_a)+1\n",
    "    dim_b = len(seq_b)+1\n",
    "    \n",
    "    ####Initialize matrices\n",
    "    \n",
    "    A = np.zeros((dim_a, dim_b))\n",
    "    B = np.zeros((dim_a, dim_b))\n",
    "    M = np.zeros((dim_a, dim_b))\n",
    "    \n",
    "    A_direction = {}\n",
    "    B_direction = {}\n",
    "    M_direction = {}\n",
    "    for i in range(dim_a):\n",
    "        A_direction[i,0] = \"end\"\n",
    "        B_direction[i,0] = \"end\"\n",
    "        M_direction[i,0] = \"end\"\n",
    "    for j in range(dim_b):\n",
    "        A_direction[0,j] = \"end\"\n",
    "        B_direction[0,j] = \"end\"\n",
    "        M_direction[0,j] = \"end\"\n",
    "\n",
    "    #Fill in top row and left row for each gap matrix with -Inf because we will not allow\n",
    "    #a gap at the start for our local alignment\n",
    "    for i in range(1,dim_a):\n",
    "        A[i,0] = MIN\n",
    "        B[i,0] = MIN\n",
    "    for j in range(1,dim_b):\n",
    "        A[0,j] = MIN\n",
    "        B[0,j] = MIN\n",
    "\n",
    "\n",
    "    #Make list to keep track of direction\n",
    "    event_gap_a = [\"open_gap_a\", \"extend_gap_a\", \"open_gap_a_from_b\"]\n",
    "    event_gap_b = [\"open_gap_b\", \"extend_gap_b\", \"open_gap_b_from_a\"]\n",
    "    event_match = [\"match\", \"close_gap_a\",\"close_gap_b\",\"end\"]\n",
    "    \"\"\"\n",
    "    Now we will fill in the values for these three matrices\n",
    "    \"\"\"\n",
    "        \n",
    "\n",
    "    for i in range(1,dim_a):\n",
    "        for j in range(1,dim_b):\n",
    "            #For A (putting a gap in seq_a at position i), we have three possibilities for how seq_a up to i\n",
    "            #and seq_b up to j-1 (since j is aligning to the gap in seq_a) could have been aligned. We can come from:\n",
    "            # 1) a previous alignment \n",
    "            # 2) a previous gap in seq_a\n",
    "            # 3) a previous gap in seq_b (so a new gap in seq_a)\n",
    "            #dic_A[\"M\":M[i,j-1] + gap_open + gap_extend, \"A\":gap_extend + A[i,j-1]]\n",
    "            values = [M[i,j-1] - gap_open - gap_extend ,  A[i,j-1] - gap_extend, B[i,j-1] - gap_open - gap_extend]\n",
    "            A[i,j] = max(values)\n",
    "            A_direction[i,j] = event_gap_a[values.index(A[i,j])]\n",
    "            #For B (putting a gap in seq_b at position j), we have three possibilities for how seq_a up to i-1 (since\n",
    "            # i is aligning with a gap) and seq_b up to j could have been aligned. We can come from:\n",
    "            # 1) a previous alignment \n",
    "            # 2) a previous gap in seq_a (so a new gap in seq_b)\n",
    "            # 3) a previous gap in seq_b \n",
    "            values = [M[i-1,j] - gap_open - gap_extend , B[i-1,j] - gap_extend, A[i-1,j] - gap_open - gap_extend, ]\n",
    "            B[i,j] = max(values)\n",
    "            B_direction[i,j] = event_gap_b[values.index(B[i,j])]\n",
    "            #For M alinging position i and j from seq_a and seq_b respectively we can come from:\n",
    "            # 1) a previous alignment \n",
    "            # 2) a previous gap in seq_a \n",
    "            # 3) a previous gap in seq_b\n",
    "            #Cost for aligning seq_a and seq_b at position i,j (need to account for zero indexing)\n",
    "            #Let 0 be the minimum score in order to create local rather than global optimum alignments\n",
    "            values = [cost_matrix.loc[seq_a[i-1],seq_b[j-1]] + M[i-1,j-1], cost_matrix.loc[seq_a[i-1],seq_b[j-1]] + A[i-1,j-1], cost_matrix.loc[seq_a[i-1],seq_b[j-1]] + B[i-1,j-1],0]\n",
    "            M[i,j] = max(values)\n",
    "            M_direction[i,j] = event_match[values.index(max(values))]\n",
    "    if M.max() == 0:\n",
    "        return \"\",\"\",0\n",
    "\n",
    "    #Do traceback to get aligned sequence\n",
    "    #Initalize strings to contan alignment\n",
    "\n",
    "    #Find index of max score position in Z\n",
    "    indices = np.where(M == M.max())\n",
    "    \n",
    "    #If there are multiple alignments take the first position\n",
    "    index_a = indices[0][0]\n",
    "    index_b = indices[1][0]\n",
    "    #Store first traceback value and initial direction\n",
    "    alignment_seqa, alignment_seqb = seq_a[index_a-1], seq_b[index_b-1]\n",
    "\n",
    "    direction = M_direction[index_a,index_b]\n",
    "\n",
    "    #Do traceback and store sequence\n",
    "\n",
    "    while direction != \"end\":\n",
    "        #Move in recorded direction and update alligned sequence\n",
    "        if index_a == 1 or index_b == 1:\n",
    "            break\n",
    "        elif direction == 'close_gap_a':\n",
    "            index_a, index_b = index_a-1, index_b-1\n",
    "            alignment_seqa, alignment_seqb = \"-\"+ alignment_seqa, seq_b[index_b-1]+ alignment_seqb\n",
    "            direction = A_direction[index_a, index_b]\n",
    "        elif direction == 'close_gap_b':\n",
    "            index_a, index_b = index_a-1, index_b-1\n",
    "            alignment_seqa, alignment_seqb = seq_a[index_a-1]+ alignment_seqa, \"-\"+ alignment_seqb\n",
    "            direction = B_direction[index_a, index_b]\n",
    "        elif direction == 'match':\n",
    "            index_a, index_b = index_a-1, index_b-1\n",
    "            alignment_seqa, alignment_seqb = seq_a[index_a-1] + alignment_seqa, seq_b[index_b-1]+ alignment_seqb\n",
    "            direction = M_direction[index_a, index_b]\n",
    "        elif direction == 'end':\n",
    "            break\n",
    "        elif direction == 'open_gap_a':\n",
    "            index_a, index_b = index_a, index_b-1\n",
    "            alignment_seqa, alignment_seqb = seq_a[index_a-1]+ alignment_seqa,seq_b[index_b-1]+ alignment_seqb\n",
    "            direction = M_direction[index_a, index_b]\n",
    "        elif direction == 'extend_gap_a':\n",
    "            index_a, index_b = index_a, index_b-1\n",
    "            alignment_seqa, alignment_seqb = \"-\"+ alignment_seqa,seq_b[index_b-1]+ alignment_seqb\n",
    "            direction = A_direction[index_a, index_b]\n",
    "        elif direction == 'open_gap_a_from_b':\n",
    "            index_a, index_b = index_a, index_b-1\n",
    "            alignment_seqa, alignment_seqb = seq_a[index_a-1]+ alignment_seqa,\"-\"+ alignment_seqb\n",
    "            direction = B_direction[index_a, index_b]\n",
    "        elif direction == 'open_gap_b':\n",
    "            index_a, index_b = index_a-1, index_b\n",
    "            alignment_seqa, alignment_seqb = seq_a[index_a-1]+ alignment_seqa,seq_b[index_b-1]+ alignment_seqb\n",
    "            direction = M_direction[index_a, index_b]\n",
    "        elif direction == 'extend_gap_b':\n",
    "            index_a, index_b = index_a-1, index_b\n",
    "            alignment_seqa, alignment_seqb = seq_a[index_a-1]+ alignment_seqa,\"-\"+ alignment_seqb\n",
    "            direction = B_direction[index_a, index_b]\n",
    "        elif direction == 'open_gap_b_from_a':\n",
    "            index_a, index_b = index_a-1, index_b\n",
    "            alignment_seqa, alignment_seqb = \"-\"+ alignment_seqa,seq_b[index_b-1]+ alignment_seqb\n",
    "            direction = A_direction[index_a, index_b]\n",
    "    #Need to remove last match if it actually was making the alignment worse\n",
    "    if cost_matrix.loc[seq_a[index_a-1],seq_b[index_b-1]] < 0:    \n",
    "        return alignment_seqa[1:], alignment_seqb[1:], M.max()\n",
    "    else:\n",
    "        return alignment_seqa, alignment_seqb, M.max()\n",
    "\n",
    "def smith_waterman(path_seq_a, path_seq_b, path_scoring_matrix, gap_open, gap_extend):\n",
    "    #Read sequences and scoring matrix\n",
    "    name_a, seq_a = read_sequence(path_seq_a)\n",
    "    name_b, seq_b = read_sequence(path_seq_b)\n",
    "    cost_matrix = read_scoring_matrix(path_scoring_matrix)\n",
    "    \n",
    "    #Store value for -Inf\n",
    "    MIN = -float(\"inf\")\n",
    "    \n",
    "    \"\"\"\n",
    "    We will initialize the values for three matrices:\n",
    "    A - score for aligning seq_a and seq_b up to i,j with a gap in seq_a at position i\n",
    "    B - score for aligning seq_a and seq_b up to i,j with a gap in seq_b at position j\n",
    "    M - score for aligning seq_a and seq_b with a alignment at position i,j\n",
    "    \"\"\"\n",
    "    dim_a = len(seq_a)+1\n",
    "    dim_b = len(seq_b)+1\n",
    "    \n",
    "    ####Initialize matrices\n",
    "    \n",
    "    A = np.zeros((dim_a, dim_b))\n",
    "    B = np.zeros((dim_a, dim_b))\n",
    "    M = np.zeros((dim_a, dim_b))\n",
    "\n",
    "    #Fill in top row and left row for each gap matrix with -Inf because we will not allow\n",
    "    #a gap at the start for our local alignment\n",
    "    for i in range(1,dim_a):\n",
    "        A[i,0] = MIN\n",
    "        B[i,0] = MIN\n",
    "    for j in range(1,dim_b):\n",
    "        A[0,j] = MIN\n",
    "        B[0,j] = MIN\n",
    "\n",
    "    \"\"\"\n",
    "    Now we will fill in the values for these three matrices\n",
    "    \"\"\"\n",
    "        \n",
    "\n",
    "    for i in range(1,dim_a):\n",
    "        for j in range(1,dim_b):\n",
    "            #For A (putting a gap in seq_a at position i), we have three possibilities for how seq_a up to i\n",
    "            #and seq_b up to j-1 (since j is aligning to the gap in seq_a) could have been aligned. We can come from:\n",
    "            # 1) a previous alignment \n",
    "            # 2) a previous gap in seq_a\n",
    "            # 3) a previous gap in seq_b (so a new gap in seq_a)\n",
    "            #dic_A[\"M\":M[i,j-1] + gap_open + gap_extend, \"A\":gap_extend + A[i,j-1]]\n",
    "            A[i,j] = max(M[i,j-1] - gap_open - gap_extend ,  A[i,j-1] - gap_extend, B[i,j-1] - gap_open - gap_extend)\n",
    "            \n",
    "\n",
    "            #For B (putting a gap in seq_b at position j), we have three possibilities for how seq_a up to i-1 (since\n",
    "            # i is aligning with a gap) and seq_b up to j could have been aligned. We can come from:\n",
    "            # 1) a previous alignment \n",
    "            # 2) a previous gap in seq_a (so a new gap in seq_b)\n",
    "            # 3) a previous gap in seq_b \n",
    "            B[i,j] = max(M[i-1,j] - gap_open - gap_extend , B[i-1,j] - gap_extend, A[i-1,j] - gap_open - gap_extend)\n",
    "            \n",
    "\n",
    "            #For M alinging position i and j from seq_a and seq_b respectively we can come from:\n",
    "            # 1) a previous alignment \n",
    "            # 2) a previous gap in seq_a \n",
    "            # 3) a previous gap in seq_b\n",
    "            #Cost for aligning seq_a and seq_b at position i,j (need to account for zero indexing)\n",
    "            #Let 0 be the minimum score in order to create local rather than global optimum alignments\n",
    "            M[i,j] = max(cost_matrix.loc[seq_a[i-1],seq_b[j-1]] + M[i-1,j-1], cost_matrix.loc[seq_a[i-1],seq_b[j-1]] + A[i-1,j-1], cost_matrix.loc[seq_a[i-1],seq_b[j-1]] + B[i-1,j-1],0)\n",
    "           \n",
    "    return np.max(M)\n",
    "\n",
    "def smith_waterman_opt_matrix(path_seq_a, path_seq_b, scoring_matrix, gap_open, gap_extend):\n",
    "    #Read sequences and scoring matrix\n",
    "    name_a, seq_a = read_sequence(path_seq_a)\n",
    "    name_b, seq_b = read_sequence(path_seq_b)\n",
    "    cost_matrix = scoring_matrix\n",
    "    \n",
    "    #Store value for -Inf\n",
    "    MIN = -float(\"inf\")\n",
    "    \n",
    "    \"\"\"\n",
    "    We will initialize the values for three matrices:\n",
    "    A - score for aligning seq_a and seq_b up to i,j with a gap in seq_a at position i\n",
    "    B - score for aligning seq_a and seq_b up to i,j with a gap in seq_b at position j\n",
    "    M - score for aligning seq_a and seq_b with a alignment at position i,j\n",
    "    \"\"\"\n",
    "    dim_a = len(seq_a)+1\n",
    "    dim_b = len(seq_b)+1\n",
    "    \n",
    "    ####Initialize matrices\n",
    "    \n",
    "    A = np.zeros((dim_a, dim_b))\n",
    "    B = np.zeros((dim_a, dim_b))\n",
    "    M = np.zeros((dim_a, dim_b))\n",
    "\n",
    "    #Fill in top row and left row for each gap matrix with -Inf because we will not allow\n",
    "    #a gap at the start for our local alignment\n",
    "    for i in range(1,dim_a):\n",
    "        A[i,0] = MIN\n",
    "        B[i,0] = MIN\n",
    "    for j in range(1,dim_b):\n",
    "        A[0,j] = MIN\n",
    "        B[0,j] = MIN\n",
    "\n",
    "    \"\"\"\n",
    "    Now we will fill in the values for these three matrices\n",
    "    \"\"\"\n",
    "        \n",
    "\n",
    "    for i in range(1,dim_a):\n",
    "        for j in range(1,dim_b):\n",
    "            #For A (putting a gap in seq_a at position i), we have three possibilities for how seq_a up to i\n",
    "            #and seq_b up to j-1 (since j is aligning to the gap in seq_a) could have been aligned. We can come from:\n",
    "            # 1) a previous alignment \n",
    "            # 2) a previous gap in seq_a\n",
    "            # 3) a previous gap in seq_b (so a new gap in seq_a)\n",
    "            #dic_A[\"M\":M[i,j-1] + gap_open + gap_extend, \"A\":gap_extend + A[i,j-1]]\n",
    "            values = [M[i,j-1] - gap_open - gap_extend ,  A[i,j-1] - gap_extend, B[i,j-1] - gap_open - gap_extend]\n",
    "            A[i,j] = max(values)\n",
    "\n",
    "            #For B (putting a gap in seq_b at position j), we have three possibilities for how seq_a up to i-1 (since\n",
    "            # i is aligning with a gap) and seq_b up to j could have been aligned. We can come from:\n",
    "            # 1) a previous alignment \n",
    "            # 2) a previous gap in seq_a (so a new gap in seq_b)\n",
    "            # 3) a previous gap in seq_b \n",
    "            values = [M[i-1,j] - gap_open - gap_extend , B[i-1,j] - gap_extend, A[i-1,j] - gap_open - gap_extend, ]\n",
    "            B[i,j] = max(values)\n",
    "\n",
    "            #For M alinging position i and j from seq_a and seq_b respectively we can come from:\n",
    "            # 1) a previous alignment \n",
    "            # 2) a previous gap in seq_a \n",
    "            # 3) a previous gap in seq_b\n",
    "            #Cost for aligning seq_a and seq_b at position i,j (need to account for zero indexing)\n",
    "            #Let 0 be the minimum score in order to create local rather than global optimum alignments\n",
    "            values = [cost_matrix.loc[seq_a[i-1],seq_b[j-1]] + M[i-1,j-1], cost_matrix.loc[seq_a[i-1],seq_b[j-1]] + A[i-1,j-1], cost_matrix.loc[seq_a[i-1],seq_b[j-1]] + B[i-1,j-1],0]\n",
    "            M[i,j] = max(values)\n",
    "    return np.max(M)\n",
    "\n",
    "\n",
    "def smith_waterman_len_adj(path_seq_a, path_seq_b, path_scoring_matrix, gap_open, gap_extend):\n",
    "    #Read sequences and scoring matrix\n",
    "    name_a, seq_a = read_sequence(path_seq_a)\n",
    "    name_b, seq_b = read_sequence(path_seq_b)\n",
    "    cost_matrix = read_scoring_matrix(path_scoring_matrix)\n",
    "    \n",
    "    #Store value for -Inf\n",
    "    MIN = -float(\"inf\")\n",
    "    \n",
    "    \"\"\"\n",
    "    We will initialize the values for three matrices:\n",
    "    A - score for aligning seq_a and seq_b up to i,j with a gap in seq_a at position i\n",
    "    B - score for aligning seq_a and seq_b up to i,j with a gap in seq_b at position j\n",
    "    M - score for aligning seq_a and seq_b with a alignment at position i,j\n",
    "    \"\"\"\n",
    "    dim_a = len(seq_a)+1\n",
    "    dim_b = len(seq_b)+1\n",
    "    \n",
    "    ####Initialize matrices\n",
    "    \n",
    "    A = np.zeros((dim_a, dim_b))\n",
    "    B = np.zeros((dim_a, dim_b))\n",
    "    M = np.zeros((dim_a, dim_b))\n",
    "\n",
    "    #Fill in top row and left row for each gap matrix with -Inf because we will not allow\n",
    "    #a gap at the start for our local alignment\n",
    "    for i in range(1,dim_a):\n",
    "        A[i,0] = MIN\n",
    "        B[i,0] = MIN\n",
    "    for j in range(1,dim_b):\n",
    "        A[0,j] = MIN\n",
    "        B[0,j] = MIN\n",
    "\n",
    "    \"\"\"\n",
    "    Now we will fill in the values for these three matrices\n",
    "    \"\"\"\n",
    "        \n",
    "\n",
    "    for i in range(1,dim_a):\n",
    "        for j in range(1,dim_b):\n",
    "            #For A (putting a gap in seq_a at position i), we have three possibilities for how seq_a up to i\n",
    "            #and seq_b up to j-1 (since j is aligning to the gap in seq_a) could have been aligned. We can come from:\n",
    "            # 1) a previous alignment \n",
    "            # 2) a previous gap in seq_a\n",
    "            # 3) a previous gap in seq_b (so a new gap in seq_a)\n",
    "            #dic_A[\"M\":M[i,j-1] + gap_open + gap_extend, \"A\":gap_extend + A[i,j-1]]\n",
    "            A[i,j] = max(M[i,j-1] - gap_open - gap_extend ,  A[i,j-1] - gap_extend, B[i,j-1] - gap_open - gap_extend)\n",
    "            \n",
    "\n",
    "            #For B (putting a gap in seq_b at position j), we have three possibilities for how seq_a up to i-1 (since\n",
    "            # i is aligning with a gap) and seq_b up to j could have been aligned. We can come from:\n",
    "            # 1) a previous alignment \n",
    "            # 2) a previous gap in seq_a (so a new gap in seq_b)\n",
    "            # 3) a previous gap in seq_b \n",
    "            B[i,j] = max(M[i-1,j] - gap_open - gap_extend , B[i-1,j] - gap_extend, A[i-1,j] - gap_open - gap_extend)\n",
    "            \n",
    "\n",
    "            #For M alinging position i and j from seq_a and seq_b respectively we can come from:\n",
    "            # 1) a previous alignment \n",
    "            # 2) a previous gap in seq_a \n",
    "            # 3) a previous gap in seq_b\n",
    "            #Cost for aligning seq_a and seq_b at position i,j (need to account for zero indexing)\n",
    "            #Let 0 be the minimum score in order to create local rather than global optimum alignments\n",
    "            M[i,j] = max(cost_matrix.loc[seq_a[i-1],seq_b[j-1]] + M[i-1,j-1], cost_matrix.loc[seq_a[i-1],seq_b[j-1]] + A[i-1,j-1], cost_matrix.loc[seq_a[i-1],seq_b[j-1]] + B[i-1,j-1],0)\n",
    "           \n",
    "    return np.max(M)/min(len(seq_a),len(seq_b))\n",
    "\n",
    "def score_alignment(seq_a, seq_b, scoring_matrix,gap,ext):\n",
    "    if len(seq_a) != len(seq_b):\n",
    "        return \"Please return valid local alignments\"\n",
    "    else:\n",
    "        i = 0\n",
    "        score = 0\n",
    "        while i in range(len(seq_a)):\n",
    "            if seq_a[i] != \"-\" and seq_b[i] != \"-\":\n",
    "                score = scoring_matrix.loc[seq_a[i],seq_b[i]] + score\n",
    "            elif seq_a[i] == \"-\" and seq_b[i] != \"-\":\n",
    "                if seq_a[i-1] != \"-\":\n",
    "                    score = -gap -ext + score\n",
    "                else:\n",
    "                    score = -ext + score\n",
    "            elif seq_b[i] == \"-\": #and seq_a[i] != \"-\":\n",
    "                if seq_b[i-1] != \"-\":\n",
    "                    score = -gap -ext + score\n",
    "                else:\n",
    "                    score = -ext + score\n",
    "            elif seq_b[i] == \"-\" and seq_a[i] == \"-\":\n",
    "                if seq_b[i-1] == \"-\" and seq_a[i-1] == \"-\":\n",
    "                    score = -ext*2 + score\n",
    "                elif seq_b[i-1] != \"-\" and seq_a[i-1] != \"-\":\n",
    "                    score = -ext*2 + -gap*2 + score\n",
    "                else:\n",
    "                    score = -ext*2 + -gap + score\n",
    "            #print(score)\n",
    "            i += 1\n",
    "    return score\n",
    "\n",
    "def score_performance(pos_sequences,neq_sequences,scoring_matrix, gap,ext):\n",
    "    ##Caluclate the performance for the current scoring matrix\n",
    "    pos_scores = [score_alignment(x[0], x[1], scoring_matrix, gap, ext) for x in pos_sequences]\n",
    "    neg_scores = [score_alignment(x[0], x[1], scoring_matrix, gap, ext) for x in neq_sequences]\n",
    "    #Find thresholds for 0, 0.1, 0.2, and 0.3 false positive rate. (there are 50 Pos_pairs)\n",
    "    thresholds = []\n",
    "    thresholds.append(sorted(neg_scores)[-1])\n",
    "    thresholds.append(sorted(neg_scores)[-6])\n",
    "    thresholds.append(sorted(neg_scores)[-11])\n",
    "    thresholds.append(sorted(neg_scores)[-16])\n",
    "    #Calculate true_pos rate at each score\n",
    "    false_pos = []\n",
    "    true_pos = []\n",
    "    for value in thresholds:\n",
    "        false_pos.append(np.sum(np.array(neg_scores) > value)/len(neg_scores))\n",
    "        true_pos.append(np.sum(np.array(pos_scores) > value)/len(pos_scores))\n",
    "    overall_score = np.sum(true_pos)\n",
    "    return overall_score\n",
    "def score_alignment(seq_a, seq_b, scoring_matrix,gap,ext):\n",
    "    if len(seq_a) != len(seq_b):\n",
    "        return \"Please return valid local alignments\"\n",
    "    else:\n",
    "        i = 0\n",
    "        score = 0\n",
    "        while i in range(len(seq_a)):\n",
    "            if seq_a[i] != \"-\" and seq_b[i] != \"-\":\n",
    "                score = scoring_matrix.loc[seq_a[i],seq_b[i]] + score\n",
    "            elif seq_a[i] == \"-\" and seq_b[i] != \"-\":\n",
    "                if seq_a[i-1] != \"-\":\n",
    "                    score = -gap -ext + score\n",
    "                else:\n",
    "                    score = -ext + score\n",
    "            elif seq_b[i] == \"-\": #and seq_a[i] != \"-\":\n",
    "                if seq_b[i-1] != \"-\":\n",
    "                    score = -gap -ext + score\n",
    "                else:\n",
    "                    score = -ext + score\n",
    "            elif seq_b[i] == \"-\" and seq_a[i] == \"-\":\n",
    "                if seq_b[i-1] == \"-\" and seq_a[i-1] == \"-\":\n",
    "                    score = -ext*2 + score\n",
    "                elif seq_b[i-1] != \"-\" and seq_a[i-1] != \"-\":\n",
    "                    score = -ext*2 + -gap*2 + score\n",
    "                else:\n",
    "                    score = -ext*2 + -gap + score\n",
    "            #print(score)\n",
    "            i += 1\n",
    "    return score"
   ]
  },
  {
   "cell_type": "code",
   "execution_count": 7,
   "metadata": {},
   "outputs": [
    {
     "name": "stdout",
     "output_type": "stream",
     "text": [
      "92.0\n"
     ]
    },
    {
     "data": {
      "text/plain": [
       "92"
      ]
     },
     "execution_count": 7,
     "metadata": {},
     "output_type": "execute_result"
    }
   ],
   "source": [
    "pos_pairs = read_pairs('pairs/Pospairs.txt')\n",
    "neg_pairs = read_pairs('pairs/Negpairs.txt')\n",
    "gap_test = 2\n",
    "ext_test = 3\n",
    "test_a, test_b, score= smith_waterman_alignment(pos_pairs[0][0], pos_pairs[0][1], 'scoring/BLOSUM50', gap_test, ext_test)\n",
    "print(score)\n",
    "score_mat = read_scoring_matrix('scoring/BLOSUM50')\n",
    "score_alignment(test_a, test_b, score_mat,gap_test,ext_test)\n",
    "\n"
   ]
  },
  {
   "cell_type": "code",
   "execution_count": 8,
   "metadata": {},
   "outputs": [
    {
     "data": {
      "text/plain": [
       "123.0"
      ]
     },
     "execution_count": 8,
     "metadata": {},
     "output_type": "execute_result"
    }
   ],
   "source": [
    "smith_waterman(pos_pairs[0][0], pos_pairs[0][1], 'scoring/BLOSUM50', 4, 1)\n"
   ]
  },
  {
   "cell_type": "code",
   "execution_count": 9,
   "metadata": {},
   "outputs": [
    {
     "data": {
      "text/plain": [
       "123"
      ]
     },
     "execution_count": 9,
     "metadata": {},
     "output_type": "execute_result"
    }
   ],
   "source": [
    "#Test alignment sequences from EMBOSS for pos_scores[0]\n",
    "test = 'SLEAAQKSNVTSSWAKASAAWGTAGPEFFMALFDAHDDVFAKFSGLFSGAAKGT---VKNTPEMAAQAQSFKGLVSNWVDNLDNAGALEGQC------KTFAA-------NHKARGISAGQLEAAFKVLSGFMK---SYGG-----DE---GAWTAVAG-ALMGEI'\n",
    "test_2 = 'SLEHA-KVD-TSNEARQD------GIDLYKHMFENYPP-LRKY---FKSREEYTAEDVQNDPFFAKQGQ--KILLACHV--------L---CATYDDRETFNAYTRELLDRH-AR----DHVHMPPEVWTDFWKLFEEYLGKKTTLDEPTKQAWHEI-GREFAKEI'\n",
    "score_mat = read_scoring_matrix('scoring/BLOSUM50')\n",
    "score_alignment(test, test_2, score_mat,4,1)\n"
   ]
  },
  {
   "cell_type": "markdown",
   "metadata": {},
   "source": [
    "Part 1.1"
   ]
  },
  {
   "cell_type": "code",
   "execution_count": 16,
   "metadata": {},
   "outputs": [
    {
     "name": "stdout",
     "output_type": "stream",
     "text": [
      "1550851282.423856\n",
      "finished for  1 1 1550851426.5196428\n",
      "finished for  1 2 1550851568.076977\n",
      "finished for  1 3 1550851709.769623\n",
      "finished for  1 4 1550851851.316094\n",
      "finished for  1 5 1550851992.8001752\n",
      "finished for  2 1 1550855581.7232268\n",
      "finished for  2 2 1550855860.8882911\n",
      "finished for  2 3 1550856140.9663749\n",
      "finished for  2 4 1550856420.027097\n",
      "finished for  2 5 1550859265.0691478\n",
      "finished for  3 1 1550859421.267266\n",
      "finished for  3 2 1550859578.171946\n",
      "finished for  3 3 1550859734.632163\n",
      "finished for  3 4 1550859890.123664\n",
      "finished for  3 5 1550860044.550993\n",
      "finished for  4 1 1550860197.794524\n",
      "finished for  4 2 1550860351.5011158\n",
      "finished for  4 3 1550860506.739775\n",
      "finished for  4 4 1550860663.9153762\n",
      "finished for  4 5 1550860818.786798\n",
      "finished for  5 1 1550860963.8369112\n",
      "finished for  5 2 1550861111.904104\n",
      "finished for  5 3 1550861267.709944\n",
      "finished for  5 4 1550861443.603809\n",
      "finished for  5 5 1550861609.8193831\n"
     ]
    },
    {
     "ename": "KeyboardInterrupt",
     "evalue": "",
     "output_type": "error",
     "traceback": [
      "\u001b[0;31m---------------------------------------------------------------------------\u001b[0m",
      "\u001b[0;31mKeyboardInterrupt\u001b[0m                         Traceback (most recent call last)",
      "\u001b[0;32m<ipython-input-16-bc4f38e99add>\u001b[0m in \u001b[0;36m<module>\u001b[0;34m()\u001b[0m\n\u001b[1;32m      5\u001b[0m \u001b[0;32mfor\u001b[0m \u001b[0mgap\u001b[0m \u001b[0;32min\u001b[0m \u001b[0mrange\u001b[0m\u001b[0;34m(\u001b[0m\u001b[0;36m1\u001b[0m\u001b[0;34m,\u001b[0m\u001b[0;36m21\u001b[0m\u001b[0;34m)\u001b[0m\u001b[0;34m:\u001b[0m\u001b[0;34m\u001b[0m\u001b[0m\n\u001b[1;32m      6\u001b[0m     \u001b[0;32mfor\u001b[0m \u001b[0mext\u001b[0m \u001b[0;32min\u001b[0m \u001b[0mrange\u001b[0m\u001b[0;34m(\u001b[0m\u001b[0;36m1\u001b[0m\u001b[0;34m,\u001b[0m\u001b[0;36m6\u001b[0m\u001b[0;34m)\u001b[0m\u001b[0;34m:\u001b[0m\u001b[0;34m\u001b[0m\u001b[0m\n\u001b[0;32m----> 7\u001b[0;31m         \u001b[0mpos_scores\u001b[0m \u001b[0;34m=\u001b[0m \u001b[0;34m[\u001b[0m\u001b[0msmith_waterman\u001b[0m\u001b[0;34m(\u001b[0m\u001b[0mx\u001b[0m\u001b[0;34m[\u001b[0m\u001b[0;36m0\u001b[0m\u001b[0;34m]\u001b[0m\u001b[0;34m,\u001b[0m \u001b[0mx\u001b[0m\u001b[0;34m[\u001b[0m\u001b[0;36m1\u001b[0m\u001b[0;34m]\u001b[0m\u001b[0;34m,\u001b[0m \u001b[0;34m'scoring/BLOSUM50'\u001b[0m\u001b[0;34m,\u001b[0m \u001b[0mgap\u001b[0m\u001b[0;34m,\u001b[0m \u001b[0mext\u001b[0m\u001b[0;34m)\u001b[0m \u001b[0;32mfor\u001b[0m \u001b[0mx\u001b[0m \u001b[0;32min\u001b[0m \u001b[0mpos_pairs\u001b[0m\u001b[0;34m]\u001b[0m\u001b[0;34m\u001b[0m\u001b[0m\n\u001b[0m\u001b[1;32m      8\u001b[0m         \u001b[0mneg_scores\u001b[0m \u001b[0;34m=\u001b[0m \u001b[0;34m[\u001b[0m\u001b[0msmith_waterman\u001b[0m\u001b[0;34m(\u001b[0m\u001b[0mx\u001b[0m\u001b[0;34m[\u001b[0m\u001b[0;36m0\u001b[0m\u001b[0;34m]\u001b[0m\u001b[0;34m,\u001b[0m \u001b[0mx\u001b[0m\u001b[0;34m[\u001b[0m\u001b[0;36m1\u001b[0m\u001b[0;34m]\u001b[0m\u001b[0;34m,\u001b[0m \u001b[0;34m'scoring/BLOSUM50'\u001b[0m\u001b[0;34m,\u001b[0m \u001b[0mgap\u001b[0m\u001b[0;34m,\u001b[0m \u001b[0mext\u001b[0m\u001b[0;34m)\u001b[0m \u001b[0;32mfor\u001b[0m \u001b[0mx\u001b[0m \u001b[0;32min\u001b[0m \u001b[0mneg_pairs\u001b[0m\u001b[0;34m]\u001b[0m\u001b[0;34m\u001b[0m\u001b[0m\n\u001b[1;32m      9\u001b[0m         \u001b[0;31m#Threshold for 0.7 True Positive Rate. (there are 50 Pos_pairs)\u001b[0m\u001b[0;34m\u001b[0m\u001b[0;34m\u001b[0m\u001b[0m\n",
      "\u001b[0;32m<ipython-input-16-bc4f38e99add>\u001b[0m in \u001b[0;36m<listcomp>\u001b[0;34m(.0)\u001b[0m\n\u001b[1;32m      5\u001b[0m \u001b[0;32mfor\u001b[0m \u001b[0mgap\u001b[0m \u001b[0;32min\u001b[0m \u001b[0mrange\u001b[0m\u001b[0;34m(\u001b[0m\u001b[0;36m1\u001b[0m\u001b[0;34m,\u001b[0m\u001b[0;36m21\u001b[0m\u001b[0;34m)\u001b[0m\u001b[0;34m:\u001b[0m\u001b[0;34m\u001b[0m\u001b[0m\n\u001b[1;32m      6\u001b[0m     \u001b[0;32mfor\u001b[0m \u001b[0mext\u001b[0m \u001b[0;32min\u001b[0m \u001b[0mrange\u001b[0m\u001b[0;34m(\u001b[0m\u001b[0;36m1\u001b[0m\u001b[0;34m,\u001b[0m\u001b[0;36m6\u001b[0m\u001b[0;34m)\u001b[0m\u001b[0;34m:\u001b[0m\u001b[0;34m\u001b[0m\u001b[0m\n\u001b[0;32m----> 7\u001b[0;31m         \u001b[0mpos_scores\u001b[0m \u001b[0;34m=\u001b[0m \u001b[0;34m[\u001b[0m\u001b[0msmith_waterman\u001b[0m\u001b[0;34m(\u001b[0m\u001b[0mx\u001b[0m\u001b[0;34m[\u001b[0m\u001b[0;36m0\u001b[0m\u001b[0;34m]\u001b[0m\u001b[0;34m,\u001b[0m \u001b[0mx\u001b[0m\u001b[0;34m[\u001b[0m\u001b[0;36m1\u001b[0m\u001b[0;34m]\u001b[0m\u001b[0;34m,\u001b[0m \u001b[0;34m'scoring/BLOSUM50'\u001b[0m\u001b[0;34m,\u001b[0m \u001b[0mgap\u001b[0m\u001b[0;34m,\u001b[0m \u001b[0mext\u001b[0m\u001b[0;34m)\u001b[0m \u001b[0;32mfor\u001b[0m \u001b[0mx\u001b[0m \u001b[0;32min\u001b[0m \u001b[0mpos_pairs\u001b[0m\u001b[0;34m]\u001b[0m\u001b[0;34m\u001b[0m\u001b[0m\n\u001b[0m\u001b[1;32m      8\u001b[0m         \u001b[0mneg_scores\u001b[0m \u001b[0;34m=\u001b[0m \u001b[0;34m[\u001b[0m\u001b[0msmith_waterman\u001b[0m\u001b[0;34m(\u001b[0m\u001b[0mx\u001b[0m\u001b[0;34m[\u001b[0m\u001b[0;36m0\u001b[0m\u001b[0;34m]\u001b[0m\u001b[0;34m,\u001b[0m \u001b[0mx\u001b[0m\u001b[0;34m[\u001b[0m\u001b[0;36m1\u001b[0m\u001b[0;34m]\u001b[0m\u001b[0;34m,\u001b[0m \u001b[0;34m'scoring/BLOSUM50'\u001b[0m\u001b[0;34m,\u001b[0m \u001b[0mgap\u001b[0m\u001b[0;34m,\u001b[0m \u001b[0mext\u001b[0m\u001b[0;34m)\u001b[0m \u001b[0;32mfor\u001b[0m \u001b[0mx\u001b[0m \u001b[0;32min\u001b[0m \u001b[0mneg_pairs\u001b[0m\u001b[0;34m]\u001b[0m\u001b[0;34m\u001b[0m\u001b[0m\n\u001b[1;32m      9\u001b[0m         \u001b[0;31m#Threshold for 0.7 True Positive Rate. (there are 50 Pos_pairs)\u001b[0m\u001b[0;34m\u001b[0m\u001b[0;34m\u001b[0m\u001b[0m\n",
      "\u001b[0;32m<ipython-input-6-de382f7c4eee>\u001b[0m in \u001b[0;36msmith_waterman\u001b[0;34m(path_seq_a, path_seq_b, path_scoring_matrix, gap_open, gap_extend)\u001b[0m\n\u001b[1;32m    256\u001b[0m             \u001b[0;31m#Cost for aligning seq_a and seq_b at position i,j (need to account for zero indexing)\u001b[0m\u001b[0;34m\u001b[0m\u001b[0;34m\u001b[0m\u001b[0m\n\u001b[1;32m    257\u001b[0m             \u001b[0;31m#Let 0 be the minimum score in order to create local rather than global optimum alignments\u001b[0m\u001b[0;34m\u001b[0m\u001b[0;34m\u001b[0m\u001b[0m\n\u001b[0;32m--> 258\u001b[0;31m             \u001b[0mvalues\u001b[0m \u001b[0;34m=\u001b[0m \u001b[0;34m[\u001b[0m\u001b[0mcost_matrix\u001b[0m\u001b[0;34m.\u001b[0m\u001b[0mloc\u001b[0m\u001b[0;34m[\u001b[0m\u001b[0mseq_a\u001b[0m\u001b[0;34m[\u001b[0m\u001b[0mi\u001b[0m\u001b[0;34m-\u001b[0m\u001b[0;36m1\u001b[0m\u001b[0;34m]\u001b[0m\u001b[0;34m,\u001b[0m\u001b[0mseq_b\u001b[0m\u001b[0;34m[\u001b[0m\u001b[0mj\u001b[0m\u001b[0;34m-\u001b[0m\u001b[0;36m1\u001b[0m\u001b[0;34m]\u001b[0m\u001b[0;34m]\u001b[0m \u001b[0;34m+\u001b[0m \u001b[0mM\u001b[0m\u001b[0;34m[\u001b[0m\u001b[0mi\u001b[0m\u001b[0;34m-\u001b[0m\u001b[0;36m1\u001b[0m\u001b[0;34m,\u001b[0m\u001b[0mj\u001b[0m\u001b[0;34m-\u001b[0m\u001b[0;36m1\u001b[0m\u001b[0;34m]\u001b[0m\u001b[0;34m,\u001b[0m \u001b[0mcost_matrix\u001b[0m\u001b[0;34m.\u001b[0m\u001b[0mloc\u001b[0m\u001b[0;34m[\u001b[0m\u001b[0mseq_a\u001b[0m\u001b[0;34m[\u001b[0m\u001b[0mi\u001b[0m\u001b[0;34m-\u001b[0m\u001b[0;36m1\u001b[0m\u001b[0;34m]\u001b[0m\u001b[0;34m,\u001b[0m\u001b[0mseq_b\u001b[0m\u001b[0;34m[\u001b[0m\u001b[0mj\u001b[0m\u001b[0;34m-\u001b[0m\u001b[0;36m1\u001b[0m\u001b[0;34m]\u001b[0m\u001b[0;34m]\u001b[0m \u001b[0;34m+\u001b[0m \u001b[0mA\u001b[0m\u001b[0;34m[\u001b[0m\u001b[0mi\u001b[0m\u001b[0;34m-\u001b[0m\u001b[0;36m1\u001b[0m\u001b[0;34m,\u001b[0m\u001b[0mj\u001b[0m\u001b[0;34m-\u001b[0m\u001b[0;36m1\u001b[0m\u001b[0;34m]\u001b[0m\u001b[0;34m,\u001b[0m \u001b[0mcost_matrix\u001b[0m\u001b[0;34m.\u001b[0m\u001b[0mloc\u001b[0m\u001b[0;34m[\u001b[0m\u001b[0mseq_a\u001b[0m\u001b[0;34m[\u001b[0m\u001b[0mi\u001b[0m\u001b[0;34m-\u001b[0m\u001b[0;36m1\u001b[0m\u001b[0;34m]\u001b[0m\u001b[0;34m,\u001b[0m\u001b[0mseq_b\u001b[0m\u001b[0;34m[\u001b[0m\u001b[0mj\u001b[0m\u001b[0;34m-\u001b[0m\u001b[0;36m1\u001b[0m\u001b[0;34m]\u001b[0m\u001b[0;34m]\u001b[0m \u001b[0;34m+\u001b[0m \u001b[0mB\u001b[0m\u001b[0;34m[\u001b[0m\u001b[0mi\u001b[0m\u001b[0;34m-\u001b[0m\u001b[0;36m1\u001b[0m\u001b[0;34m,\u001b[0m\u001b[0mj\u001b[0m\u001b[0;34m-\u001b[0m\u001b[0;36m1\u001b[0m\u001b[0;34m]\u001b[0m\u001b[0;34m,\u001b[0m\u001b[0;36m0\u001b[0m\u001b[0;34m]\u001b[0m\u001b[0;34m\u001b[0m\u001b[0m\n\u001b[0m\u001b[1;32m    259\u001b[0m             \u001b[0mM\u001b[0m\u001b[0;34m[\u001b[0m\u001b[0mi\u001b[0m\u001b[0;34m,\u001b[0m\u001b[0mj\u001b[0m\u001b[0;34m]\u001b[0m \u001b[0;34m=\u001b[0m \u001b[0mmax\u001b[0m\u001b[0;34m(\u001b[0m\u001b[0mvalues\u001b[0m\u001b[0;34m)\u001b[0m\u001b[0;34m\u001b[0m\u001b[0m\n\u001b[1;32m    260\u001b[0m     \u001b[0;32mreturn\u001b[0m \u001b[0mnp\u001b[0m\u001b[0;34m.\u001b[0m\u001b[0mmax\u001b[0m\u001b[0;34m(\u001b[0m\u001b[0mM\u001b[0m\u001b[0;34m)\u001b[0m\u001b[0;34m\u001b[0m\u001b[0m\n",
      "\u001b[0;32m/usr/local/lib/python3.7/site-packages/pandas/core/indexing.py\u001b[0m in \u001b[0;36m__getitem__\u001b[0;34m(self, key)\u001b[0m\n\u001b[1;32m   1466\u001b[0m                         for x in key)\n\u001b[1;32m   1467\u001b[0m             \u001b[0;32mtry\u001b[0m\u001b[0;34m:\u001b[0m\u001b[0;34m\u001b[0m\u001b[0m\n\u001b[0;32m-> 1468\u001b[0;31m                 \u001b[0;32mif\u001b[0m \u001b[0mself\u001b[0m\u001b[0;34m.\u001b[0m\u001b[0m_is_scalar_access\u001b[0m\u001b[0;34m(\u001b[0m\u001b[0mkey\u001b[0m\u001b[0;34m)\u001b[0m\u001b[0;34m:\u001b[0m\u001b[0;34m\u001b[0m\u001b[0m\n\u001b[0m\u001b[1;32m   1469\u001b[0m                     \u001b[0;32mreturn\u001b[0m \u001b[0mself\u001b[0m\u001b[0;34m.\u001b[0m\u001b[0m_getitem_scalar\u001b[0m\u001b[0;34m(\u001b[0m\u001b[0mkey\u001b[0m\u001b[0;34m)\u001b[0m\u001b[0;34m\u001b[0m\u001b[0m\n\u001b[1;32m   1470\u001b[0m             \u001b[0;32mexcept\u001b[0m \u001b[0;34m(\u001b[0m\u001b[0mKeyError\u001b[0m\u001b[0;34m,\u001b[0m \u001b[0mIndexError\u001b[0m\u001b[0;34m)\u001b[0m\u001b[0;34m:\u001b[0m\u001b[0;34m\u001b[0m\u001b[0m\n",
      "\u001b[0;32m/usr/local/lib/python3.7/site-packages/pandas/core/indexing.py\u001b[0m in \u001b[0;36m_is_scalar_access\u001b[0;34m(self, key)\u001b[0m\n\u001b[1;32m   1806\u001b[0m             \u001b[0;32mreturn\u001b[0m \u001b[0;32mFalse\u001b[0m\u001b[0;34m\u001b[0m\u001b[0m\n\u001b[1;32m   1807\u001b[0m \u001b[0;34m\u001b[0m\u001b[0m\n\u001b[0;32m-> 1808\u001b[0;31m         \u001b[0;32mif\u001b[0m \u001b[0mlen\u001b[0m\u001b[0;34m(\u001b[0m\u001b[0mkey\u001b[0m\u001b[0;34m)\u001b[0m \u001b[0;34m!=\u001b[0m \u001b[0mself\u001b[0m\u001b[0;34m.\u001b[0m\u001b[0mndim\u001b[0m\u001b[0;34m:\u001b[0m\u001b[0;34m\u001b[0m\u001b[0m\n\u001b[0m\u001b[1;32m   1809\u001b[0m             \u001b[0;32mreturn\u001b[0m \u001b[0;32mFalse\u001b[0m\u001b[0;34m\u001b[0m\u001b[0m\n\u001b[1;32m   1810\u001b[0m \u001b[0;34m\u001b[0m\u001b[0m\n",
      "\u001b[0;32mpandas/_libs/indexing.pyx\u001b[0m in \u001b[0;36mpandas._libs.indexing._NDFrameIndexerBase.ndim.__get__\u001b[0;34m()\u001b[0m\n",
      "\u001b[0;32m/usr/local/lib/python3.7/site-packages/pandas/core/generic.py\u001b[0m in \u001b[0;36mndim\u001b[0;34m(self)\u001b[0m\n\u001b[1;32m    477\u001b[0m         \u001b[0;36m2\u001b[0m\u001b[0;34m\u001b[0m\u001b[0m\n\u001b[1;32m    478\u001b[0m         \"\"\"\n\u001b[0;32m--> 479\u001b[0;31m         \u001b[0;32mreturn\u001b[0m \u001b[0mself\u001b[0m\u001b[0;34m.\u001b[0m\u001b[0m_data\u001b[0m\u001b[0;34m.\u001b[0m\u001b[0mndim\u001b[0m\u001b[0;34m\u001b[0m\u001b[0m\n\u001b[0m\u001b[1;32m    480\u001b[0m \u001b[0;34m\u001b[0m\u001b[0m\n\u001b[1;32m    481\u001b[0m     \u001b[0;34m@\u001b[0m\u001b[0mproperty\u001b[0m\u001b[0;34m\u001b[0m\u001b[0m\n",
      "\u001b[0;32m/usr/local/lib/python3.7/site-packages/pandas/core/internals.py\u001b[0m in \u001b[0;36mndim\u001b[0;34m(self)\u001b[0m\n\u001b[1;32m   3311\u001b[0m     \u001b[0;34m@\u001b[0m\u001b[0mproperty\u001b[0m\u001b[0;34m\u001b[0m\u001b[0m\n\u001b[1;32m   3312\u001b[0m     \u001b[0;32mdef\u001b[0m \u001b[0mndim\u001b[0m\u001b[0;34m(\u001b[0m\u001b[0mself\u001b[0m\u001b[0;34m)\u001b[0m\u001b[0;34m:\u001b[0m\u001b[0;34m\u001b[0m\u001b[0m\n\u001b[0;32m-> 3313\u001b[0;31m         \u001b[0;32mreturn\u001b[0m \u001b[0mlen\u001b[0m\u001b[0;34m(\u001b[0m\u001b[0mself\u001b[0m\u001b[0;34m.\u001b[0m\u001b[0maxes\u001b[0m\u001b[0;34m)\u001b[0m\u001b[0;34m\u001b[0m\u001b[0m\n\u001b[0m\u001b[1;32m   3314\u001b[0m \u001b[0;34m\u001b[0m\u001b[0m\n\u001b[1;32m   3315\u001b[0m     \u001b[0;32mdef\u001b[0m \u001b[0mset_axis\u001b[0m\u001b[0;34m(\u001b[0m\u001b[0mself\u001b[0m\u001b[0;34m,\u001b[0m \u001b[0maxis\u001b[0m\u001b[0;34m,\u001b[0m \u001b[0mnew_labels\u001b[0m\u001b[0;34m)\u001b[0m\u001b[0;34m:\u001b[0m\u001b[0;34m\u001b[0m\u001b[0m\n",
      "\u001b[0;31mKeyboardInterrupt\u001b[0m: "
     ]
    }
   ],
   "source": [
    "pos_pairs = read_pairs('pairs/Pospairs.txt')\n",
    "neg_pairs = read_pairs('pairs/Negpairs.txt')\n",
    "fp_result = []\n",
    "print(time.time())\n",
    "for gap in range(1,21):\n",
    "    for ext in range(1,6):\n",
    "        pos_scores = [smith_waterman(x[0], x[1], 'scoring/BLOSUM50', gap, ext) for x in pos_pairs]\n",
    "        neg_scores = [smith_waterman(x[0], x[1], 'scoring/BLOSUM50', gap, ext) for x in neg_pairs]\n",
    "        #Threshold for 0.7 True Positive Rate. (there are 50 Pos_pairs)\n",
    "        threshold = sorted(pos_scores)[14]\n",
    "        false_pos = np.sum(np.array(neg_scores) > threshold)/len(neg_scores)\n",
    "        true_pos = np.sum(np.array(pos_scores) > threshold)/len(pos_scores)\n",
    "        fp_result.append([gap,ext,false_pos,true_pos])\n",
    "        print(\"finished for \",gap,ext,time.time())\n",
    "        \n",
    "        "
   ]
  },
  {
   "cell_type": "code",
   "execution_count": 18,
   "metadata": {},
   "outputs": [
    {
     "data": {
      "text/plain": [
       "25"
      ]
     },
     "execution_count": 18,
     "metadata": {},
     "output_type": "execute_result"
    }
   ],
   "source": [
    "len(fp_result)"
   ]
  },
  {
   "cell_type": "code",
   "execution_count": 20,
   "metadata": {},
   "outputs": [
    {
     "name": "stdout",
     "output_type": "stream",
     "text": [
      "finished for  6 1 149.01043820381165\n",
      "finished for  6 2 295.6854729652405\n",
      "finished for  6 3 440.84903597831726\n",
      "finished for  6 4 586.4377400875092\n",
      "finished for  6 5 732.2295382022858\n",
      "finished for  7 1 874.9504401683807\n",
      "finished for  7 2 1018.2865200042725\n",
      "finished for  7 3 1161.507793188095\n",
      "finished for  7 4 1305.3954272270203\n",
      "finished for  7 5 1448.247158050537\n",
      "finished for  8 1 1591.279547214508\n",
      "finished for  8 2 1736.518846988678\n",
      "finished for  8 3 1881.8585002422333\n",
      "finished for  8 4 2025.9182760715485\n",
      "finished for  8 5 2169.569622039795\n",
      "finished for  9 1 2313.137278318405\n",
      "finished for  9 2 2457.811660051346\n",
      "finished for  9 3 2615.9374661445618\n",
      "finished for  9 4 2769.504413127899\n",
      "finished for  9 5 2928.6025903224945\n",
      "finished for  10 1 3083.651164293289\n",
      "finished for  10 2 3239.7246820926666\n",
      "finished for  10 3 3391.981187105179\n",
      "finished for  10 4 3548.2159852981567\n",
      "finished for  10 5 3703.0445759296417\n",
      "finished for  11 1 3849.5029842853546\n",
      "finished for  11 2 3995.7923741340637\n",
      "finished for  11 3 4144.867094039917\n",
      "finished for  11 4 4292.125261068344\n",
      "finished for  11 5 4436.833474159241\n",
      "finished for  12 1 4642.575204133987\n",
      "finished for  12 2 4799.972286939621\n",
      "finished for  12 3 4945.988820075989\n",
      "finished for  12 4 5091.735345125198\n",
      "finished for  12 5 5238.282741069794\n",
      "finished for  13 1 5381.301988124847\n",
      "finished for  13 2 5529.812995195389\n",
      "finished for  13 3 5680.561556100845\n",
      "finished for  13 4 5824.809822320938\n",
      "finished for  13 5 5977.412216186523\n",
      "finished for  14 1 6127.35232925415\n",
      "finished for  14 2 6280.855394124985\n",
      "finished for  14 3 6430.560617923737\n",
      "finished for  14 4 6579.28200507164\n",
      "finished for  14 5 6726.473466157913\n",
      "finished for  15 1 6873.122227191925\n",
      "finished for  15 2 7022.106032133102\n",
      "finished for  15 3 7175.417724132538\n",
      "finished for  15 4 7325.34225320816\n",
      "finished for  15 5 7474.59629201889\n",
      "finished for  16 1 7626.365514039993\n",
      "finished for  16 2 7777.194629192352\n",
      "finished for  16 3 7927.273084163666\n",
      "finished for  16 4 8081.192222356796\n",
      "finished for  16 5 8231.13686132431\n",
      "finished for  17 1 8381.802611351013\n",
      "finished for  17 2 8531.21726512909\n",
      "finished for  17 3 8686.141075134277\n",
      "finished for  17 4 8835.417441129684\n",
      "finished for  17 5 8986.795662164688\n",
      "finished for  18 1 9323.8749833107\n",
      "finished for  18 2 9948.408714056015\n",
      "finished for  18 3 12489.557866096497\n",
      "finished for  18 4 12639.442670106888\n",
      "finished for  18 5 12784.285884141922\n",
      "finished for  19 1 12931.012912273407\n",
      "finished for  19 2 13083.490688085556\n",
      "finished for  19 3 13236.949211120605\n",
      "finished for  19 4 13387.892317295074\n",
      "finished for  19 5 13538.006958007812\n",
      "finished for  20 1 13685.47596526146\n",
      "finished for  20 2 13837.339465141296\n",
      "finished for  20 3 13991.413192272186\n",
      "finished for  20 4 14143.406236171722\n",
      "finished for  20 5 14294.135880231857\n"
     ]
    }
   ],
   "source": [
    "pos_pairs = read_pairs('pairs/Pospairs.txt')\n",
    "neg_pairs = read_pairs('pairs/Negpairs.txt')\n",
    "\n",
    "start = time.time()\n",
    "for gap in range(6,21):\n",
    "    for ext in range(1,6):\n",
    "        pos_scores = [smith_waterman(x[0], x[1], 'scoring/BLOSUM50', gap, ext) for x in pos_pairs]\n",
    "        neg_scores = [smith_waterman(x[0], x[1], 'scoring/BLOSUM50', gap, ext) for x in neg_pairs]\n",
    "        #Threshold for 0.7 True Positive Rate. (there are 50 Pos_pairs)\n",
    "        threshold = sorted(pos_scores)[14]\n",
    "        false_pos = np.sum(np.array(neg_scores) > threshold)/len(neg_scores)\n",
    "        true_pos = np.sum(np.array(pos_scores) > threshold)/len(pos_scores)\n",
    "        fp_result.append([gap,ext,false_pos,true_pos])\n",
    "        print(\"finished for \",gap,ext,time.time()-start)"
   ]
  },
  {
   "cell_type": "code",
   "execution_count": 21,
   "metadata": {},
   "outputs": [],
   "source": [
    "df = pd.DataFrame(fp_result, columns=[\"gap_open\",\"gap_ext\",\"FP\",\"TP\"])"
   ]
  },
  {
   "cell_type": "code",
   "execution_count": 24,
   "metadata": {},
   "outputs": [
    {
     "data": {
      "text/html": [
       "<div>\n",
       "<style scoped>\n",
       "    .dataframe tbody tr th:only-of-type {\n",
       "        vertical-align: middle;\n",
       "    }\n",
       "\n",
       "    .dataframe tbody tr th {\n",
       "        vertical-align: top;\n",
       "    }\n",
       "\n",
       "    .dataframe thead th {\n",
       "        text-align: right;\n",
       "    }\n",
       "</style>\n",
       "<table border=\"1\" class=\"dataframe\">\n",
       "  <thead>\n",
       "    <tr style=\"text-align: right;\">\n",
       "      <th></th>\n",
       "      <th>gap_open</th>\n",
       "      <th>gap_ext</th>\n",
       "      <th>FP</th>\n",
       "      <th>TP</th>\n",
       "    </tr>\n",
       "  </thead>\n",
       "  <tbody>\n",
       "    <tr>\n",
       "      <th>22</th>\n",
       "      <td>5</td>\n",
       "      <td>3</td>\n",
       "      <td>0.22</td>\n",
       "      <td>0.7</td>\n",
       "    </tr>\n",
       "  </tbody>\n",
       "</table>\n",
       "</div>"
      ],
      "text/plain": [
       "    gap_open  gap_ext    FP   TP\n",
       "22         5        3  0.22  0.7"
      ]
     },
     "execution_count": 24,
     "metadata": {},
     "output_type": "execute_result"
    }
   ],
   "source": [
    "#Show the best gap-opening and gap_extend penalty\n",
    "df[df.loc[:,\"FP\"] == min(df.loc[:,\"FP\"])]"
   ]
  },
  {
   "cell_type": "code",
   "execution_count": 5,
   "metadata": {},
   "outputs": [],
   "source": [
    "opt_gap = 5\n",
    "opt_ext = 3"
   ]
  },
  {
   "cell_type": "code",
   "execution_count": 41,
   "metadata": {},
   "outputs": [
    {
     "data": {
      "image/png": "[encoded data removed]",
      "text/plain": [
       "<Figure size 432x288 with 1 Axes>"
      ]
     },
     "metadata": {
      "needs_background": "light"
     },
     "output_type": "display_data"
    }
   ],
   "source": [
    "plt.scatter(df.loc[df[\"gap_ext\"] == 1,:]['gap_open'],df.loc[df[\"gap_ext\"] == 1,:]['FP'], c='g', label='gap_ext = 1')\n",
    "plt.scatter(df.loc[df[\"gap_ext\"] == 2,:]['gap_open'],df.loc[df[\"gap_ext\"] == 2,:]['FP'], c='b', label='gap_ext = 2')\n",
    "plt.scatter(df.loc[df[\"gap_ext\"] == 3,:]['gap_open'],df.loc[df[\"gap_ext\"] == 3,:]['FP'], c='yellow', label='gap_ext = 3')\n",
    "plt.scatter(df.loc[df[\"gap_ext\"] == 4,:]['gap_open'],df.loc[df[\"gap_ext\"] == 4,:]['FP'], c='darkorange', label='gap_ext = 4')\n",
    "plt.scatter(df.loc[df[\"gap_ext\"] == 5,:]['gap_open'],df.loc[df[\"gap_ext\"] == 5,:]['FP'], c='deeppink', label='gap_ext = 5')\n",
    "plt.legend(loc='lower right')\n",
    "plt.xlabel(\"Gap Open Penalty\")\n",
    "plt.ylabel(\"False Positive Rate\")\n",
    "plt.show()\n"
   ]
  },
  {
   "cell_type": "code",
   "execution_count": 23,
   "metadata": {},
   "outputs": [],
   "source": [
    "df.to_csv('false_positives.csv')"
   ]
  },
  {
   "cell_type": "markdown",
   "metadata": {},
   "source": [
    "Part 1.2"
   ]
  },
  {
   "cell_type": "code",
   "execution_count": 42,
   "metadata": {},
   "outputs": [
    {
     "data": {
      "image/png": "[encoded data removed]",
      "text/plain": [
       "<Figure size 432x288 with 1 Axes>"
      ]
     },
     "metadata": {
      "needs_background": "light"
     },
     "output_type": "display_data"
    }
   ],
   "source": [
    "#ROC\n",
    "\n",
    "#Load list of pos_pairs and neg_pairs\n",
    "pos_pairs = read_pairs('pairs/Pospairs.txt')\n",
    "neg_pairs = read_pairs('pairs/Negpairs.txt')\n",
    "#Load list of scoring matrices\n",
    "scoring_files = [\"scoring/BLOSUM50\",\"scoring/BLOSUM62\",\"scoring/PAM100\",\"scoring/PAM250\"]\n",
    "#Usng optimized gap opening penatlty (gap) and gap extension penalty (ext)\n",
    "gap = opt_gap\n",
    "ext = opt_ext\n",
    "scoring_results = {}\n",
    "fp_result_scoring = {}\n",
    "#Calculate fpr (for TP of 0.7) and scoring predictions for each scoring matrix\n",
    "for path in scoring_files:\n",
    "    pos_scores = [smith_waterman(x[0], x[1], path, gap, ext) for x in pos_pairs]\n",
    "    neg_scores = [smith_waterman(x[0], x[1], path, gap, ext) for x in neg_pairs]\n",
    "    #Threshold for 0.7 True Positive Rate. (there are 50 Pos_pairs)\n",
    "    threshold = sorted(pos_scores)[14]\n",
    "    false_pos = np.sum(np.array(neg_scores) > threshold)/len(neg_scores)\n",
    "    true_pos = np.sum(np.array(pos_scores) > threshold)/len(pos_scores)\n",
    "    fp_result_scoring[path] = [false_pos,true_pos]\n",
    "    overall_scores = pos_scores + neg_scores\n",
    "    scoring_results[path] = overall_scores\n",
    "\n",
    "#Plot ROC curve\n",
    "# Compute ROC curve and ROC area for each scoring matrix\n",
    "y_true = [1]*len(pos_pairs) + [0]*len(neg_pairs)\n",
    "fpr = dict()\n",
    "tpr = dict()\n",
    "roc_auc = dict()\n",
    "\n",
    "for path in scoring_files:\n",
    "    fpr[path], tpr[path], _ = roc_curve(y_true, scoring_results[path])\n",
    "    roc_auc[path] = auc(fpr[path], tpr[path])\n",
    "\n",
    "\n",
    "colors = ['deeppink','aqua', 'darkorange', 'cornflowerblue']\n",
    "for path, color in zip(scoring_files, colors):\n",
    "    plt.plot(fpr[path], tpr[path], color=color, lw=2,\n",
    "             label='ROC curve of class {0} (area = {1:0.2f})'\n",
    "             ''.format(path, roc_auc[path]))\n",
    "\n",
    "plt.plot([0, 1], [0, 1], 'k--', lw=2)\n",
    "plt.xlim([0.0, 1.0])\n",
    "plt.ylim([0.0, 1.05])\n",
    "plt.xlabel('False Positive Rate')\n",
    "plt.ylabel('True Positive Rate')\n",
    "plt.title('Receiver operating characteristic to all scoring matrices')\n",
    "plt.legend(loc=\"lower right\")\n",
    "plt.show()"
   ]
  },
  {
   "cell_type": "code",
   "execution_count": 43,
   "metadata": {},
   "outputs": [
    {
     "name": "stdout",
     "output_type": "stream",
     "text": [
      "{'scoring/BLOSUM50': [0.22, 0.7], 'scoring/BLOSUM62': [0.22, 0.7], 'scoring/PAM100': [0.2, 0.66], 'scoring/PAM250': [0.28, 0.7]}\n"
     ]
    }
   ],
   "source": [
    "print(fp_result_scoring)"
   ]
  },
  {
   "cell_type": "code",
   "execution_count": 45,
   "metadata": {},
   "outputs": [
    {
     "name": "stdout",
     "output_type": "stream",
     "text": [
      "[29.0, 30.0, 30.0, 30.0, 31.0]\n"
     ]
    },
    {
     "data": {
      "text/plain": [
       "0.22"
      ]
     },
     "execution_count": 45,
     "metadata": {},
     "output_type": "execute_result"
    }
   ],
   "source": [
    "print(sorted(scoring_results['scoring/PAM100'][0:50])[13:18])\n",
    "threshold = sorted(scoring_results['scoring/PAM100'][0:50])[13]\n",
    "# #False positive rate for true positive rate of 0.72\n",
    "np.sum(np.array(scoring_results['scoring/PAM100'][50:]) > threshold)/len(neg_scores)"
   ]
  },
  {
   "cell_type": "markdown",
   "metadata": {},
   "source": [
    "Part 1.3"
   ]
  },
  {
   "cell_type": "code",
   "execution_count": 46,
   "metadata": {},
   "outputs": [
    {
     "data": {
      "image/png": "[encoded data removed]",
      "text/plain": [
       "<Figure size 432x288 with 1 Axes>"
      ]
     },
     "metadata": {
      "needs_background": "light"
     },
     "output_type": "display_data"
    }
   ],
   "source": [
    "#ROC\n",
    "\n",
    "#Load list of pos_pairs and neg_pairs\n",
    "pos_pairs = read_pairs('pairs/Pospairs.txt')\n",
    "neg_pairs = read_pairs('pairs/Negpairs.txt')\n",
    "#Load list of scoring matrices\n",
    "scoring_files = [\"scoring/BLOSUM50\",\"scoring/BLOSUM62\",\"scoring/PAM100\",\"scoring/PAM250\"]\n",
    "#Usng optimized gap opening penatlty (gap) and gap extension penalty (ext)\n",
    "gap = opt_gap\n",
    "ext = opt_ext\n",
    "scoring_results_adj = {}\n",
    "fp_result_scoring_adj = {}\n",
    "#Calculate fpr (for TP of 0.7) and scoring predictions for each scoring matrix with the length adjusted score\n",
    "for path in scoring_files:\n",
    "    pos_scores = [smith_waterman_len_adj(x[0], x[1], path, gap, ext) for x in pos_pairs]\n",
    "    neg_scores = [smith_waterman_len_adj(x[0], x[1], path, gap, ext) for x in neg_pairs]\n",
    "    #Threshold for 0.7 True Positive Rate. (there are 50 Pos_pairs)\n",
    "    threshold = sorted(pos_scores)[14]\n",
    "    false_pos = np.sum(np.array(neg_scores) > threshold)/len(neg_scores)\n",
    "    true_pos = np.sum(np.array(pos_scores) > threshold)/len(pos_scores)\n",
    "    fp_result_scoring_adj[path] = [false_pos,true_pos]\n",
    "    overall_scores = pos_scores + neg_scores\n",
    "    scoring_results_adj[path] = overall_scores\n",
    "\n",
    "\n",
    "# Compute ROC curve and ROC area for each scoring matrix with the length adjusted score\n",
    "y_true = [1]*len(pos_pairs) + [0]*len(neg_pairs)\n",
    "fpr_adj = dict()\n",
    "tpr_adj = dict()\n",
    "roc_auc_adj = dict()\n",
    "\n",
    "for path in scoring_files:\n",
    "    fpr_adj[path], tpr_adj[path], _ = roc_curve(y_true, scoring_results_adj[path])\n",
    "    roc_auc_adj[path] = auc(fpr_adj[path], tpr_adj[path])\n",
    "\n",
    "#Plot ROC for best matrix\n",
    "colors = ['orange','yellow']\n",
    "opt_path = 'scoring/PAM100'\n",
    "plt.plot(fpr[opt_path], tpr[opt_path], color=colors[0], lw=2,\n",
    "             label='ROC curve of class {0} (area = {1:0.2f})'\n",
    "             ''.format(opt_path + \" Orig\", roc_auc[opt_path]))\n",
    "plt.plot(fpr_adj[opt_path], tpr_adj[opt_path], color=colors[1], lw=2,\n",
    "             label='ROC curve of class {0} (area = {1:0.2f})'\n",
    "             ''.format(opt_path + \" Adj\", roc_auc_adj[opt_path]))\n",
    "\n",
    "plt.plot([0, 1], [0, 1], 'k--', lw=2)\n",
    "plt.xlim([0.0, 1.0])\n",
    "plt.ylim([0.0, 1.05])\n",
    "plt.xlabel('False Positive Rate')\n",
    "plt.ylabel('True Positive Rate')\n",
    "plt.title('Receiver operating characteristic for original and length adjusted PAM100 matrix')\n",
    "plt.legend(loc=\"lower right\")\n",
    "plt.show()"
   ]
  },
  {
   "cell_type": "code",
   "execution_count": 47,
   "metadata": {},
   "outputs": [
    {
     "name": "stdout",
     "output_type": "stream",
     "text": [
      "{'scoring/BLOSUM50': 0.47319999999999995, 'scoring/BLOSUM62': 0.40340000000000004, 'scoring/PAM100': 0.40679999999999994, 'scoring/PAM250': 0.45339999999999997}\n"
     ]
    }
   ],
   "source": [
    "print(roc_auc_adj)"
   ]
  },
  {
   "cell_type": "code",
   "execution_count": 48,
   "metadata": {},
   "outputs": [
    {
     "name": "stdout",
     "output_type": "stream",
     "text": [
      "{'scoring/BLOSUM50': [0.8, 0.7], 'scoring/BLOSUM62': [0.88, 0.7], 'scoring/PAM100': [0.86, 0.7], 'scoring/PAM250': [0.8, 0.7]}\n"
     ]
    }
   ],
   "source": [
    "print(fp_result_scoring_adj)"
   ]
  },
  {
   "cell_type": "code",
   "execution_count": 49,
   "metadata": {},
   "outputs": [
    {
     "data": {
      "image/png": "[encoded data removed]",
      "text/plain": [
       "<Figure size 432x288 with 1 Axes>"
      ]
     },
     "metadata": {
      "needs_background": "light"
     },
     "output_type": "display_data"
    },
    {
     "data": {
      "image/png": "[encoded data removed]",
      "text/plain": [
       "<Figure size 432x288 with 1 Axes>"
      ]
     },
     "metadata": {
      "needs_background": "light"
     },
     "output_type": "display_data"
    }
   ],
   "source": [
    "plt.hist(scoring_results['scoring/PAM100'][0:50], bins='auto', alpha = 0.5, label = \"Positive Pairs\")\n",
    "plt.hist(scoring_results['scoring/PAM100'][50:], bins='auto', alpha = 0.5, label = \"Negative Pairs\")\n",
    "plt.title(\"Histogram of scores for original algorithm\")\n",
    "plt.legend(loc='upper right')\n",
    "plt.show()\n",
    "\n",
    "plt.hist(scoring_results_adj['scoring/PAM100'][0:50], bins='auto', alpha = 0.5, label = \"Positive Pairs\")\n",
    "plt.hist(scoring_results_adj['scoring/PAM100'][50:], bins='auto', alpha = 0.5, label = \"Negative Pairs\")\n",
    "plt.title(\"Histogram of scores for length adjusted algorithm\")\n",
    "plt.legend(loc='upper right')\n",
    "plt.show()"
   ]
  },
  {
   "cell_type": "code",
   "execution_count": 6,
   "metadata": {},
   "outputs": [
    {
     "name": "stdout",
     "output_type": "stream",
     "text": [
      "Finished sequences/prot-0004.fa sequences/prot-0008.fa\n",
      "Finished sequences/prot-0031.fa sequences/prot-0034.fa\n",
      "Finished sequences/prot-0047.fa sequences/prot-0050.fa\n",
      "Finished sequences/prot-0065.fa sequences/prot-0069.fa\n",
      "Finished sequences/prot-0077.fa sequences/prot-0082.fa\n",
      "Finished sequences/prot-0098.fa sequences/prot-0102.fa\n",
      "Finished sequences/prot-0124.fa sequences/prot-0125.fa\n",
      "Finished sequences/prot-0166.fa sequences/prot-0177.fa\n",
      "Finished sequences/prot-0170.fa sequences/prot-0173.fa\n",
      "Finished sequences/prot-0175.fa sequences/prot-0178.fa\n",
      "Finished sequences/prot-0187.fa sequences/prot-0190.fa\n",
      "Finished sequences/prot-0240.fa sequences/prot-0242.fa\n",
      "Finished sequences/prot-0271.fa sequences/prot-0275.fa\n",
      "Finished sequences/prot-0298.fa sequences/prot-0300.fa\n",
      "Finished sequences/prot-0326.fa sequences/prot-0327.fa\n",
      "Finished sequences/prot-0354.fa sequences/prot-0355.fa\n",
      "Finished sequences/prot-0357.fa sequences/prot-0360.fa\n",
      "Finished sequences/prot-0361.fa sequences/prot-0364.fa\n",
      "Finished sequences/prot-0369.fa sequences/prot-0370.fa\n",
      "Finished sequences/prot-0380.fa sequences/prot-0384.fa\n",
      "Finished sequences/prot-0384.fa sequences/prot-0392.fa\n",
      "Finished sequences/prot-0410.fa sequences/prot-0412.fa\n",
      "Finished sequences/prot-0459.fa sequences/prot-0461.fa\n",
      "Finished sequences/prot-0465.fa sequences/prot-0466.fa\n",
      "Finished sequences/prot-0484.fa sequences/prot-0485.fa\n",
      "Finished sequences/prot-0507.fa sequences/prot-0509.fa\n",
      "Finished sequences/prot-0533.fa sequences/prot-0534.fa\n",
      "Finished sequences/prot-0570.fa sequences/prot-0572.fa\n",
      "Finished sequences/prot-0580.fa sequences/prot-0615.fa\n",
      "Finished sequences/prot-0582.fa sequences/prot-0586.fa\n",
      "Finished sequences/prot-0583.fa sequences/prot-0598.fa\n",
      "Finished sequences/prot-0584.fa sequences/prot-0611.fa\n",
      "Finished sequences/prot-0586.fa sequences/prot-0590.fa\n",
      "Finished sequences/prot-0587.fa sequences/prot-0606.fa\n",
      "Finished sequences/prot-0589.fa sequences/prot-0591.fa\n",
      "Finished sequences/prot-0590.fa sequences/prot-0610.fa\n",
      "Finished sequences/prot-0592.fa sequences/prot-0601.fa\n",
      "Finished sequences/prot-0594.fa sequences/prot-0596.fa\n",
      "Finished sequences/prot-0595.fa sequences/prot-0620.fa\n",
      "Finished sequences/prot-0597.fa sequences/prot-0621.fa\n",
      "Finished sequences/prot-0600.fa sequences/prot-0605.fa\n",
      "Finished sequences/prot-0602.fa sequences/prot-0616.fa\n",
      "Finished sequences/prot-0605.fa sequences/prot-0615.fa\n",
      "Finished sequences/prot-0609.fa sequences/prot-0611.fa\n",
      "Finished sequences/prot-0614.fa sequences/prot-0616.fa\n",
      "Finished sequences/prot-0659.fa sequences/prot-0661.fa\n",
      "Finished sequences/prot-0735.fa sequences/prot-0736.fa\n",
      "Finished sequences/prot-0776.fa sequences/prot-0779.fa\n",
      "Finished sequences/prot-0829.fa sequences/prot-0832.fa\n",
      "Finished sequences/prot-0860.fa sequences/prot-0862.fa\n",
      "finished positives\n",
      "Finished sequences/prot-0018.fa sequences/prot-0198.fa\n",
      "Finished sequences/prot-0035.fa sequences/prot-0071.fa\n",
      "Finished sequences/prot-0056.fa sequences/prot-0826.fa\n",
      "Finished sequences/prot-0075.fa sequences/prot-0561.fa\n",
      "Finished sequences/prot-0093.fa sequences/prot-0091.fa\n",
      "Finished sequences/prot-0110.fa sequences/prot-0613.fa\n",
      "Finished sequences/prot-0131.fa sequences/prot-0547.fa\n",
      "Finished sequences/prot-0148.fa sequences/prot-0369.fa\n",
      "Finished sequences/prot-0166.fa sequences/prot-0839.fa\n",
      "Finished sequences/prot-0186.fa sequences/prot-0014.fa\n",
      "Finished sequences/prot-0206.fa sequences/prot-0313.fa\n",
      "Finished sequences/prot-0228.fa sequences/prot-0121.fa\n",
      "Finished sequences/prot-0244.fa sequences/prot-0817.fa\n",
      "Finished sequences/prot-0262.fa sequences/prot-0540.fa\n",
      "Finished sequences/prot-0286.fa sequences/prot-0641.fa\n",
      "Finished sequences/prot-0305.fa sequences/prot-0785.fa\n",
      "Finished sequences/prot-0326.fa sequences/prot-0712.fa\n",
      "Finished sequences/prot-0346.fa sequences/prot-0063.fa\n",
      "Finished sequences/prot-0363.fa sequences/prot-0345.fa\n",
      "Finished sequences/prot-0380.fa sequences/prot-0553.fa\n",
      "Finished sequences/prot-0397.fa sequences/prot-0470.fa\n",
      "Finished sequences/prot-0414.fa sequences/prot-0903.fa\n",
      "Finished sequences/prot-0431.fa sequences/prot-0093.fa\n",
      "Finished sequences/prot-0446.fa sequences/prot-0424.fa\n",
      "Finished sequences/prot-0469.fa sequences/prot-0609.fa\n",
      "Finished sequences/prot-0486.fa sequences/prot-0314.fa\n",
      "Finished sequences/prot-0503.fa sequences/prot-0454.fa\n",
      "Finished sequences/prot-0520.fa sequences/prot-0088.fa\n",
      "Finished sequences/prot-0536.fa sequences/prot-0452.fa\n",
      "Finished sequences/prot-0552.fa sequences/prot-0460.fa\n",
      "Finished sequences/prot-0571.fa sequences/prot-0711.fa\n",
      "Finished sequences/prot-0595.fa sequences/prot-0503.fa\n",
      "Finished sequences/prot-0616.fa sequences/prot-0819.fa\n",
      "Finished sequences/prot-0631.fa sequences/prot-0386.fa\n",
      "Finished sequences/prot-0648.fa sequences/prot-0022.fa\n",
      "Finished sequences/prot-0665.fa sequences/prot-0100.fa\n",
      "Finished sequences/prot-0682.fa sequences/prot-0873.fa\n",
      "Finished sequences/prot-0699.fa sequences/prot-0760.fa\n",
      "Finished sequences/prot-0716.fa sequences/prot-0710.fa\n",
      "Finished sequences/prot-0734.fa sequences/prot-0108.fa\n",
      "Finished sequences/prot-0750.fa sequences/prot-0875.fa\n",
      "Finished sequences/prot-0772.fa sequences/prot-0886.fa\n",
      "Finished sequences/prot-0791.fa sequences/prot-0245.fa\n",
      "Finished sequences/prot-0805.fa sequences/prot-0261.fa\n",
      "Finished sequences/prot-0821.fa sequences/prot-0591.fa\n",
      "Finished sequences/prot-0843.fa sequences/prot-0026.fa\n",
      "Finished sequences/prot-0860.fa sequences/prot-0510.fa\n",
      "Finished sequences/prot-0878.fa sequences/prot-0524.fa\n",
      "Finished sequences/prot-0900.fa sequences/prot-0264.fa\n",
      "Finished sequences/prot-0915.fa sequences/prot-0407.fa\n"
     ]
    }
   ],
   "source": [
    "#Determine optimal local alginments for the optimum matrix from Part 1\n",
    "pos_pairs = read_pairs('pairs/Pospairs.txt')\n",
    "neg_pairs = read_pairs('pairs/Negpairs.txt')\n",
    "\n",
    "gap = opt_gap\n",
    "ext = opt_ext\n",
    "opt_matrix = 'scoring/PAM100'\n",
    "opt_matrix_df = read_scoring_matrix(opt_matrix)\n",
    "pos_seq = []\n",
    "neg_seq = []\n",
    "pos_scores = []\n",
    "neg_scores =[]\n",
    "for x in pos_pairs:\n",
    "    opt_seq_a,opt_seq_b,score = smith_waterman_alignment(x[0], x[1], opt_matrix, gap, ext)\n",
    "    if score_alignment(opt_seq_a, opt_seq_b, opt_matrix_df, gap, ext) != score:\n",
    "        print (x[0], x[1])\n",
    "        break\n",
    "    pos_seq.append([opt_seq_a,opt_seq_b])\n",
    "    pos_scores.append(score)\n",
    "    print(\"Finished\", x[0], x[1])\n",
    "print(\"finished positives\")\n",
    "for x in neg_pairs:\n",
    "    opt_seq_a,opt_seq_b,score = smith_waterman_alignment(x[0], x[1], opt_matrix, gap, ext)\n",
    "    if score_alignment(opt_seq_a, opt_seq_b, opt_matrix_df, gap, ext) != score:\n",
    "        print (x[0], x[1])\n",
    "        break\n",
    "    neg_seq.append([opt_seq_a,opt_seq_b])\n",
    "    neg_scores.append(score)\n",
    "    print(\"Finished\", x[0], x[1])\n",
    "        "
   ]
  },
  {
   "cell_type": "code",
   "execution_count": 386,
   "metadata": {},
   "outputs": [
    {
     "name": "stdout",
     "output_type": "stream",
     "text": [
      "25.0\n",
      "25\n",
      "1.0249450206756592\n"
     ]
    }
   ],
   "source": [
    "start = time.time()\n",
    "path = 'scoring/PAM100'\n",
    "#i = np.random.randint(0,high=50)\n",
    "test_a, test_b, score= smith_waterman_alignment(pos_pairs[0][0], pos_pairs[0][1], path, 5, 3)\n",
    "print(score)\n",
    "score_mat = read_scoring_matrix(path)\n",
    "print(score_alignment(test_a, test_b, score_mat, 5, 3))\n",
    "print(time.time()-start)"
   ]
  },
  {
   "cell_type": "code",
   "execution_count": 387,
   "metadata": {},
   "outputs": [
    {
     "data": {
      "text/plain": [
       "'AWGTAGPEF'"
      ]
     },
     "execution_count": 387,
     "metadata": {},
     "output_type": "execute_result"
    }
   ],
   "source": [
    "test_a"
   ]
  },
  {
   "cell_type": "code",
   "execution_count": 388,
   "metadata": {},
   "outputs": [
    {
     "data": {
      "text/plain": [
       "'AWHEIGREF'"
      ]
     },
     "execution_count": 388,
     "metadata": {},
     "output_type": "execute_result"
    }
   ],
   "source": [
    "test_b"
   ]
  },
  {
   "cell_type": "code",
   "execution_count": 71,
   "metadata": {},
   "outputs": [
    {
     "data": {
      "text/plain": [
       "74"
      ]
     },
     "execution_count": 71,
     "metadata": {},
     "output_type": "execute_result"
    }
   ],
   "source": [
    "#EMBOSS test case\n",
    "#['sequences/prot-0031.fa', 'sequences/prot-0034.fa']\n",
    "a = \"VIEKAD---NAAQVK---DALTKMRAAALDAQKATP-----PKLEDKSPDS-PEM-KD---FR---HGFDILVGQIDDALKL---ANEGKVKEAQAA-AEQLKTTRNAYHQKYR\"\n",
    "b = \"VV-KGQAPYDAAQIKANVEVLKTL--TAL------PWAAFGPGTE--GGDARPEIWSDAASFKQKQQAF-----Q-DNIVKLSAAADAGDLDKLRAAFGD-VGASCKACHDAYR\"\n",
    "score_mat = read_scoring_matrix(path)\n",
    "score_alignment(a, b, score_mat, 4, 1)"
   ]
  },
  {
   "cell_type": "code",
   "execution_count": 158,
   "metadata": {},
   "outputs": [
    {
     "data": {
      "text/plain": [
       "38"
      ]
     },
     "execution_count": 158,
     "metadata": {},
     "output_type": "execute_result"
    }
   ],
   "source": [
    "#EMBOSS test case\n",
    "#['sequences/prot-0102.fa', 'sequences/prot-0098.fa']\n",
    "a = \"IDRDAVLNMWQ-QGLGASHISKTMNIARSTVYK\"\n",
    "b = \"IQR-GV-SPSQAQGLGSNLVT---EV-R--VYN\"\n",
    "score_mat = read_scoring_matrix(path)\n",
    "score_alignment(a, b, score_mat, 4, 1)\n"
   ]
  },
  {
   "cell_type": "markdown",
   "metadata": {},
   "source": [
    "Part 2.1 and 2.2"
   ]
  },
  {
   "cell_type": "code",
   "execution_count": 259,
   "metadata": {},
   "outputs": [
    {
     "data": {
      "text/plain": [
       "2.08"
      ]
     },
     "execution_count": 259,
     "metadata": {},
     "output_type": "execute_result"
    }
   ],
   "source": [
    "test = read_scoring_matrix('scoring/PAM100')\n",
    "score_performance(pos_seq, neg_seq,test, 5,3)"
   ]
  },
  {
   "cell_type": "code",
   "execution_count": 260,
   "metadata": {},
   "outputs": [
    {
     "data": {
      "text/plain": [
       "1.48"
      ]
     },
     "execution_count": 260,
     "metadata": {},
     "output_type": "execute_result"
    }
   ],
   "source": [
    "test = read_scoring_matrix('scoring/BLOSUM50')\n",
    "score_performance(pos_seq, neg_seq,test, 5,3)"
   ]
  },
  {
   "cell_type": "code",
   "execution_count": 348,
   "metadata": {},
   "outputs": [],
   "source": [
    "\n",
    "def optimize_scoring_matrix(alignments_pos, alignments_neg, starting_matrix_path, gap_open, gap_ext, num_iterations):\n",
    "\n",
    "    #Record start time\n",
    "    start = time.time()\n",
    "    #Load scoring matrix\n",
    "    score_mat = read_scoring_matrix(starting_matrix_path)\n",
    "    score_mat = score_mat.astype(np.float64)\n",
    "    #Store column names \n",
    "    residues = score_mat.columns.tolist()\n",
    "    #Intialize the iteration matrices and iteration score lists\n",
    "    iteration_mat = [score_mat]*10\n",
    "    \n",
    "    #Initialize best iteration scores\n",
    "    starting_score = score_performance(alignments_pos, alignments_neg, score_mat, gap_open, gap_ext)\n",
    "    iteration_scores = [starting_score]*10\n",
    "    print(\"Loaded initial matrix and scores\")\n",
    "    \n",
    "    #Perform optimization with pool of matrices\n",
    "    #Take top 10 scoring matrices\n",
    "    #Mutate each one nine times to create pool of 100 matrices\n",
    "    #Repeat\n",
    "    iteration_counter = [0]\n",
    "    iteration_score_counter = []\n",
    "    iteration_score_counter.append([np.mean(iteration_scores),np.std(iteration_scores),np.max(iteration_scores)])\n",
    "    \n",
    "    for i in range(num_iterations):\n",
    "        #Find top 10 matrices\n",
    "        best_mat_scores = sorted(iteration_scores)[-10:]\n",
    "        best_mat_indices = [iteration_scores.index(x) for x in best_mat_scores]\n",
    "\n",
    "        #Make list of 100 matrices with each of the best ten repeated ten times\n",
    "        new_matrices = []\n",
    "        new_scores = []\n",
    "        for j in range(10):\n",
    "            new_matrices = new_matrices + [iteration_mat[best_mat_indices[j]]]*10\n",
    "            new_scores = new_scores + [iteration_scores[best_mat_indices[j]]]*10\n",
    "\n",
    "        iteration_mat = new_matrices\n",
    "        iteration_scores = new_scores\n",
    "\n",
    "        #Mutate the 9 copies but keep one of each of the originals\n",
    "        for k in list(set(range(100))-set([0,10,20,30,40,50,60,70,80,90])):\n",
    "            rand_adj = pd.DataFrame(np.zeros((24,24)), columns = residues, index = residues)\n",
    "            for b in range(24):\n",
    "                for c in range(b,24):\n",
    "                    rand_adj.iloc[b,c] += uniform(-1,1)\n",
    "                    rand_adj.iloc[c,b] = rand_adj.iloc[b,c]\n",
    "            iteration_mat[k] = iteration_mat[k] + rand_adj\n",
    "            iteration_scores[k] = score_performance(alignments_pos, alignments_neg, iteration_mat[k], gap_open, gap_ext)\n",
    "        iteration_counter.append(i+1)\n",
    "        iteration_score_counter.append([np.mean(iteration_scores),np.std(iteration_scores), np.max(iteration_scores)])\n",
    "        print(\"Finished iteration\", i+1)\n",
    "    new_matrix_score = max(iteration_scores)\n",
    "    new_matrix = iteration_mat[iteration_scores.index(max(iteration_scores))]\n",
    "    end = time.time()\n",
    "    total_time = (end-start)/60\n",
    "    return iteration_mat, iteration_scores, new_matrix, new_matrix_score, starting_score, iteration_counter, iteration_score_counter, total_time    \n",
    " \n",
    "    "
   ]
  },
  {
   "cell_type": "code",
   "execution_count": 360,
   "metadata": {},
   "outputs": [
    {
     "name": "stdout",
     "output_type": "stream",
     "text": [
      "Loaded initial matrix and scores\n",
      "Finished iteration 1\n",
      "Finished iteration 2\n",
      "Finished iteration 3\n",
      "Finished iteration 4\n",
      "Finished iteration 5\n",
      "Finished iteration 6\n",
      "Finished iteration 7\n",
      "Finished iteration 8\n",
      "Finished iteration 9\n",
      "Finished iteration 10\n",
      "Finished iteration 11\n",
      "Finished iteration 12\n",
      "Finished iteration 13\n",
      "Finished iteration 14\n",
      "Finished iteration 15\n",
      "Finished iteration 16\n",
      "Finished iteration 17\n",
      "Finished iteration 18\n",
      "Finished iteration 19\n",
      "Finished iteration 20\n",
      "Finished iteration 21\n",
      "Finished iteration 22\n",
      "Finished iteration 23\n",
      "Finished iteration 24\n",
      "Finished iteration 25\n",
      "Finished iteration 26\n",
      "Finished iteration 27\n",
      "Finished iteration 28\n",
      "Finished iteration 29\n",
      "Finished iteration 30\n",
      "Finished iteration 31\n",
      "Finished iteration 32\n",
      "Finished iteration 33\n",
      "Finished iteration 34\n",
      "Finished iteration 35\n",
      "Finished iteration 36\n",
      "Finished iteration 37\n",
      "Finished iteration 38\n",
      "Finished iteration 39\n",
      "Finished iteration 40\n",
      "Finished iteration 41\n",
      "Finished iteration 42\n",
      "Finished iteration 43\n",
      "Finished iteration 44\n",
      "Finished iteration 45\n",
      "Finished iteration 46\n",
      "Finished iteration 47\n",
      "Finished iteration 48\n",
      "Finished iteration 49\n",
      "Finished iteration 50\n",
      "Finished iteration 51\n",
      "Finished iteration 52\n",
      "Finished iteration 53\n",
      "Finished iteration 54\n",
      "Finished iteration 55\n",
      "Finished iteration 56\n",
      "Finished iteration 57\n",
      "Finished iteration 58\n",
      "Finished iteration 59\n",
      "Finished iteration 60\n",
      "Finished iteration 61\n",
      "Finished iteration 62\n",
      "Finished iteration 63\n",
      "Finished iteration 64\n",
      "Finished iteration 65\n",
      "Finished iteration 66\n",
      "Finished iteration 67\n",
      "Finished iteration 68\n",
      "Finished iteration 69\n",
      "Finished iteration 70\n",
      "Finished iteration 71\n",
      "Finished iteration 72\n",
      "Finished iteration 73\n",
      "Finished iteration 74\n",
      "Finished iteration 75\n",
      "Finished iteration 76\n",
      "Finished iteration 77\n",
      "Finished iteration 78\n",
      "Finished iteration 79\n",
      "Finished iteration 80\n",
      "Finished iteration 81\n",
      "Finished iteration 82\n",
      "Finished iteration 83\n",
      "Finished iteration 84\n",
      "Finished iteration 85\n",
      "Finished iteration 86\n",
      "Finished iteration 87\n",
      "Finished iteration 88\n",
      "Finished iteration 89\n",
      "Finished iteration 90\n",
      "Finished iteration 91\n",
      "Finished iteration 92\n",
      "Finished iteration 93\n",
      "Finished iteration 94\n",
      "Finished iteration 95\n",
      "Finished iteration 96\n",
      "Finished iteration 97\n",
      "Finished iteration 98\n",
      "Finished iteration 99\n",
      "Finished iteration 100\n",
      "1172.998878955841\n"
     ]
    }
   ],
   "source": [
    "start = time.time()\n",
    "output = optimize_scoring_matrix(pos_seq, neg_seq, 'scoring/PAM100', opt_gap, opt_ext, 100)\n",
    "print(time.time()-start)"
   ]
  },
  {
   "cell_type": "code",
   "execution_count": 371,
   "metadata": {},
   "outputs": [
    {
     "data": {
      "text/plain": [
       "[[2.0799999999999996, 4.440892098500626e-16, 2.08],\n",
       " [2.1261999999999994, 0.12543348835139678, 2.5],\n",
       " [2.2288, 0.141203965949969, 2.56],\n",
       " [2.3536, 0.13016543319944815, 2.66],\n",
       " [2.3482000000000003, 0.18878760552536283, 2.7600000000000002],\n",
       " [2.4656000000000002, 0.1650473871347256, 2.9399999999999995],\n",
       " [2.5063999999999997, 0.17997510939015987, 2.9399999999999995],\n",
       " [2.5640000000000005, 0.1643167672515498, 2.9399999999999995],\n",
       " [2.609, 0.17151967817133987, 3.06],\n",
       " [2.6438000000000006, 0.17428011934813442, 3.1199999999999997],\n",
       " [2.6488, 0.18190810867028437, 3.1199999999999997],\n",
       " [2.6768, 0.1829474241414729, 3.1199999999999997],\n",
       " [2.7042, 0.18424537986066292, 3.1199999999999997],\n",
       " [2.7576000000000005, 0.1774098080715944, 3.1199999999999997],\n",
       " [2.7278000000000002, 0.19214359213879595, 3.1199999999999997],\n",
       " [2.7362, 0.18259671409967917, 3.1199999999999997],\n",
       " [2.7656, 0.1807557467966094, 3.1199999999999997],\n",
       " [2.7432000000000003, 0.19595346386323456, 3.1399999999999997],\n",
       " [2.7638, 0.19999389990697208, 3.1399999999999997],\n",
       " [2.7724, 0.1919329049433681, 3.1399999999999997],\n",
       " [2.8259999999999996, 0.17335512683506066, 3.1599999999999997],\n",
       " [2.8885999999999994, 0.16363997066731575, 3.1599999999999997],\n",
       " [2.9154, 0.14845484161858777, 3.1599999999999997],\n",
       " [2.9275999999999995, 0.1451007925546927, 3.16],\n",
       " [2.8908000000000005, 0.15363385043667938, 3.2399999999999998],\n",
       " [2.9074, 0.1462779545933015, 3.2399999999999998],\n",
       " [2.930800000000001, 0.1606591422857721, 3.2399999999999998],\n",
       " [2.9494, 0.15253733969097522, 3.2399999999999998],\n",
       " [2.9345999999999997, 0.1851022420177561, 3.32],\n",
       " [2.9525999999999994, 0.18550805912412527, 3.32],\n",
       " [3.0462000000000002, 0.12363478474927674, 3.36],\n",
       " [3.0841999999999996, 0.13432185228026, 3.38],\n",
       " [3.0608, 0.16511620150669645, 3.4],\n",
       " [3.1194, 0.1456970830181579, 3.42],\n",
       " [3.1424000000000003, 0.15862610125701254, 3.48],\n",
       " [3.2121999999999997, 0.13649600726761205, 3.48],\n",
       " [3.286, 0.10746162105607752, 3.54],\n",
       " [3.2777999999999996, 0.12109153562491476, 3.54],\n",
       " [3.2958000000000003, 0.1265004347818616, 3.54],\n",
       " [3.3343999999999996, 0.1305398023592805, 3.56],\n",
       " [3.3676000000000004, 0.11855057992266428, 3.6],\n",
       " [3.3791999999999995, 0.12655180757302528, 3.6],\n",
       " [3.438799999999999, 0.11828169765437094, 3.6999999999999997],\n",
       " [3.4132, 0.13732355952275638, 3.6999999999999997],\n",
       " [3.4328, 0.13843467773646898, 3.6999999999999997],\n",
       " [3.4739999999999998, 0.11428035701729324, 3.7199999999999998],\n",
       " [3.494199999999999, 0.12352473436522747, 3.78],\n",
       " [3.5362000000000005, 0.11383127865397981, 3.78],\n",
       " [3.5418000000000003, 0.11723804843138597, 3.78],\n",
       " [3.5728000000000004, 0.10117390968031234, 3.78],\n",
       " [3.5787999999999998, 0.10676403888950621, 3.78],\n",
       " [3.5726, 0.10832008124073762, 3.78],\n",
       " [3.5972000000000004, 0.10032028708092892, 3.78],\n",
       " [3.5842, 0.11427318145566788, 3.78],\n",
       " [3.593600000000001, 0.10221076264268844, 3.78],\n",
       " [3.5812, 0.11801084695908254, 3.78],\n",
       " [3.590200000000001, 0.09779550091900953, 3.78],\n",
       " [3.6085999999999996, 0.11179463314488755, 3.78],\n",
       " [3.6208000000000005, 0.0889458262089908, 3.78],\n",
       " [3.6302000000000003, 0.0781022406848868, 3.78],\n",
       " [3.6176, 0.09192518697288567, 3.78],\n",
       " [3.6174, 0.09468495128582992, 3.78],\n",
       " [3.619400000000001, 0.09167136957632951, 3.78],\n",
       " [3.6132000000000004, 0.09559163143288218, 3.8],\n",
       " [3.621800000000001, 0.09117433849499533, 3.8],\n",
       " [3.6310000000000007, 0.09021640649017221, 3.8],\n",
       " [3.6296000000000004, 0.08383221337886762, 3.8],\n",
       " [3.6279999999999997, 0.09448809448814166, 3.82],\n",
       " [3.6313999999999997, 0.09424457544071166, 3.82],\n",
       " [3.616, 0.11310172412478951, 3.82],\n",
       " [3.6382000000000003, 0.08718233766078992, 3.88],\n",
       " [3.6439999999999997, 0.10142977866484768, 3.88],\n",
       " [3.6693999999999996, 0.09357157688101654, 3.88],\n",
       " [3.678, 0.09425497334358537, 3.88],\n",
       " [3.6752000000000002, 0.10369648017170105, 3.88],\n",
       " [3.6820000000000004, 0.10573551910309038, 3.88],\n",
       " [3.6712000000000007, 0.11286522936670972, 3.88],\n",
       " [3.6826000000000003, 0.09598562392358552, 3.88],\n",
       " [3.6928, 0.09145578166523968, 3.88],\n",
       " [3.697199999999999, 0.10703345271456019, 3.9],\n",
       " [3.7019999999999995, 0.10626382263028178, 3.9],\n",
       " [3.708799999999999, 0.10120553344555816, 3.9],\n",
       " [3.7061999999999995, 0.10102257173523149, 3.9],\n",
       " [3.7176000000000005, 0.09416071367613985, 3.9],\n",
       " [3.6988, 0.09951160736316136, 3.9],\n",
       " [3.7103999999999995, 0.08910577983498034, 3.9],\n",
       " [3.7218, 0.08653762187626832, 3.9],\n",
       " [3.701, 0.10049378090210355, 3.9],\n",
       " [3.7228000000000003, 0.09683057368414166, 3.9],\n",
       " [3.6986000000000003, 0.10281069983226447, 3.9],\n",
       " [3.6994, 0.09676590308574601, 3.9],\n",
       " [3.6976, 0.1106084987693079, 3.9],\n",
       " [3.7012, 0.10502647285327633, 3.9],\n",
       " [3.6996, 0.09797877321134404, 3.9],\n",
       " [3.7094, 0.09492965816856179, 3.9],\n",
       " [3.698, 0.10069756700139279, 3.9],\n",
       " [3.7207999999999997, 0.09299118237768564, 3.9],\n",
       " [3.7162, 0.09825253177399548, 3.9],\n",
       " [3.701, 0.09369631796394133, 3.9],\n",
       " [3.7058000000000004, 0.09542724977698974, 3.9],\n",
       " [3.6984000000000004, 0.11280709197563772, 3.9]]"
      ]
     },
     "execution_count": 371,
     "metadata": {},
     "output_type": "execute_result"
    }
   ],
   "source": [
    "output[6]"
   ]
  },
  {
   "cell_type": "code",
   "execution_count": 377,
   "metadata": {},
   "outputs": [
    {
     "name": "stdout",
     "output_type": "stream",
     "text": [
      "True\n",
      "3.9\n"
     ]
    }
   ],
   "source": [
    "print(score_performance(pos_seq,neg_seq,output[2],5,3) == output[3])\n",
    "print(output[3])"
   ]
  },
  {
   "cell_type": "code",
   "execution_count": 376,
   "metadata": {},
   "outputs": [],
   "source": [
    "def score_performance(pos_sequences,neq_sequences,scoring_matrix, gap,ext):\n",
    "    ##Caluclate the performance for the current scoring matrix\n",
    "    pos_scores = [score_alignment(x[0], x[1], scoring_matrix, gap, ext) for x in pos_sequences]\n",
    "    neg_scores = [score_alignment(x[0], x[1], scoring_matrix, gap, ext) for x in neq_sequences]\n",
    "    #Find thresholds for 0, 0.1, 0.2, and 0.3 false positive rate. (there are 50 Pos_pairs)\n",
    "    thresholds = []\n",
    "    thresholds.append(sorted(neg_scores)[-1])\n",
    "    thresholds.append(sorted(neg_scores)[-6])\n",
    "    thresholds.append(sorted(neg_scores)[-11])\n",
    "    thresholds.append(sorted(neg_scores)[-16])\n",
    "    #Calculate true_pos rate at each score\n",
    "    false_pos = []\n",
    "    true_pos = []\n",
    "    for value in thresholds:\n",
    "        false_pos.append(np.sum(np.array(neg_scores) > value)/len(neg_scores))\n",
    "        true_pos.append(np.sum(np.array(pos_scores) > value)/len(pos_scores))\n",
    "    overall_score = np.sum(true_pos)\n",
    "    return overall_score\n"
   ]
  },
  {
   "cell_type": "code",
   "execution_count": 97,
   "metadata": {},
   "outputs": [],
   "source": [
    "df_pos = pd.DataFrame({'pos':pos_seq})\n",
    "df_pos.to_csv('tests/pos_seq.csv')"
   ]
  },
  {
   "cell_type": "code",
   "execution_count": 98,
   "metadata": {},
   "outputs": [],
   "source": [
    "df_neg = pd.DataFrame({'neg':neg_seq})\n",
    "df_neg.to_csv('tests/neg_seq.csv')"
   ]
  },
  {
   "cell_type": "code",
   "execution_count": 365,
   "metadata": {},
   "outputs": [],
   "source": [
    "def write_optimal_matrix(filename, k, path, opt_matrix, opt_matrix_score, original_score,time):\n",
    "    \"\"\"\n",
    "    Write the optimal scoring matrix out to a file.\n",
    "\n",
    "    Input: a filename and the output from optimize_scoring_matrix\n",
    "    Output: none\n",
    "    \"\"\"\n",
    "\n",
    "    out = open(filename, 'w')\n",
    "    out.write(\"# Optimal Matrix after %d iterations on %s scoring matrix\\n\" % (k, path))\n",
    "    out.write(\"# Time (min) %d \\n\" % time)\n",
    "    out.write(\"# Original matrix score %d \\n\" % original_score)\n",
    "    out.write(\"# New matrix score %d \\n\" % opt_matrix_score)\n",
    "    out.close()\n",
    "    opt_matrix.to_csv(filename, index=None, sep=' ', mode='a')"
   ]
  },
  {
   "cell_type": "code",
   "execution_count": 366,
   "metadata": {},
   "outputs": [],
   "source": [
    "write_optimal_matrix('/Users/elizabeth/Desktop/BMI203_HW3/data/optimization/opt_PAM100',100,'scoring/PAM100',output[2],output[3],output[4],output[-1])\n",
    "\n"
   ]
  },
  {
   "cell_type": "code",
   "execution_count": 380,
   "metadata": {},
   "outputs": [],
   "source": [
    "def score_performance_all(pos_sequences,neq_sequences,scoring_matrix, gap,ext):\n",
    "    ##Caluclate the performance for the current scoring matrix\n",
    "    pos_scores = [score_alignment(x[0], x[1], scoring_matrix, gap, ext) for x in pos_sequences]\n",
    "    neg_scores = [score_alignment(x[0], x[1], scoring_matrix, gap, ext) for x in neq_sequences]\n",
    "    #Find thresholds for 0, 0.1, 0.2, and 0.3 false positive rate. (there are 50 Pos_pairs)\n",
    "    thresholds = []\n",
    "    thresholds.append(sorted(neg_scores)[-1])\n",
    "    thresholds.append(sorted(neg_scores)[-6])\n",
    "    thresholds.append(sorted(neg_scores)[-11])\n",
    "    thresholds.append(sorted(neg_scores)[-16])\n",
    "    #Calculate true_pos rate at each score\n",
    "    false_pos = []\n",
    "    true_pos = []\n",
    "    for value in thresholds:\n",
    "        false_pos.append(np.sum(np.array(neg_scores) > value)/len(neg_scores))\n",
    "        true_pos.append(np.sum(np.array(pos_scores) > value)/len(pos_scores))\n",
    "    overall_score = np.sum(true_pos)\n",
    "    return overall_score,false_pos,true_pos"
   ]
  },
  {
   "cell_type": "code",
   "execution_count": 381,
   "metadata": {},
   "outputs": [
    {
     "name": "stdout",
     "output_type": "stream",
     "text": [
      "(3.9, [0.0, 0.1, 0.2, 0.3], [0.96, 0.98, 0.98, 0.98])\n"
     ]
    }
   ],
   "source": [
    "test = read_scoring_matrix('optimization/opt_PAM100')\n",
    "print(score_performance_all(pos_seq,neg_seq,test,5,3))"
   ]
  },
  {
   "cell_type": "markdown",
   "metadata": {},
   "source": [
    "Part 2.3"
   ]
  },
  {
   "cell_type": "code",
   "execution_count": 367,
   "metadata": {},
   "outputs": [
    {
     "ename": "NameError",
     "evalue": "name 'fpr' is not defined",
     "output_type": "error",
     "traceback": [
      "\u001b[0;31m---------------------------------------------------------------------------\u001b[0m",
      "\u001b[0;31mNameError\u001b[0m                                 Traceback (most recent call last)",
      "\u001b[0;32m<ipython-input-367-1fe14943ecf7>\u001b[0m in \u001b[0;36m<module>\u001b[0;34m()\u001b[0m\n\u001b[1;32m     46\u001b[0m \u001b[0;34m\u001b[0m\u001b[0m\n\u001b[1;32m     47\u001b[0m \u001b[0;32mfor\u001b[0m \u001b[0mpath\u001b[0m \u001b[0;32min\u001b[0m \u001b[0mlist\u001b[0m\u001b[0;34m(\u001b[0m\u001b[0mscoring_results\u001b[0m\u001b[0;34m.\u001b[0m\u001b[0mkeys\u001b[0m\u001b[0;34m(\u001b[0m\u001b[0;34m)\u001b[0m\u001b[0;34m)\u001b[0m\u001b[0;34m:\u001b[0m\u001b[0;34m\u001b[0m\u001b[0m\n\u001b[0;32m---> 48\u001b[0;31m     \u001b[0mfpr\u001b[0m\u001b[0;34m[\u001b[0m\u001b[0mpath\u001b[0m\u001b[0;34m]\u001b[0m\u001b[0;34m,\u001b[0m \u001b[0mtpr\u001b[0m\u001b[0;34m[\u001b[0m\u001b[0mpath\u001b[0m\u001b[0;34m]\u001b[0m\u001b[0;34m,\u001b[0m \u001b[0m_\u001b[0m \u001b[0;34m=\u001b[0m \u001b[0mroc_curve\u001b[0m\u001b[0;34m(\u001b[0m\u001b[0my_true\u001b[0m\u001b[0;34m,\u001b[0m \u001b[0mscoring_results\u001b[0m\u001b[0;34m[\u001b[0m\u001b[0mpath\u001b[0m\u001b[0;34m]\u001b[0m\u001b[0;34m)\u001b[0m\u001b[0;34m\u001b[0m\u001b[0m\n\u001b[0m\u001b[1;32m     49\u001b[0m     \u001b[0mroc_auc\u001b[0m\u001b[0;34m[\u001b[0m\u001b[0mpath\u001b[0m\u001b[0;34m]\u001b[0m \u001b[0;34m=\u001b[0m \u001b[0mauc\u001b[0m\u001b[0;34m(\u001b[0m\u001b[0mfpr\u001b[0m\u001b[0;34m[\u001b[0m\u001b[0mpath\u001b[0m\u001b[0;34m]\u001b[0m\u001b[0;34m,\u001b[0m \u001b[0mtpr\u001b[0m\u001b[0;34m[\u001b[0m\u001b[0mpath\u001b[0m\u001b[0;34m]\u001b[0m\u001b[0;34m)\u001b[0m\u001b[0;34m\u001b[0m\u001b[0m\n\u001b[1;32m     50\u001b[0m \u001b[0;34m\u001b[0m\u001b[0m\n",
      "\u001b[0;31mNameError\u001b[0m: name 'fpr' is not defined"
     ]
    }
   ],
   "source": [
    "#ROC\n",
    "#Plot ROC for initial alignments for original matrix and optimized matrix\n",
    "scoring_results = {}\n",
    "fp_result_scoring = {}\n",
    "#Original\n",
    "path = 'scoring/PAM100'\n",
    "scoring_matrix = read_scoring_matrix(path)\n",
    "pos_scores = [score_alignment(x[0], x[1], scoring_matrix, 5, 3) for x in pos_seq]\n",
    "neg_scores = [score_alignment(x[0], x[1], scoring_matrix, 5, 3) for x in neg_seq]\n",
    "threshold = sorted(pos_scores)[14]\n",
    "false_pos = np.sum(np.array(neg_scores) > threshold)/len(neg_scores)\n",
    "true_pos = np.sum(np.array(pos_scores) > threshold)/len(pos_scores)\n",
    "fp_result_scoring[path] = [false_pos,true_pos]\n",
    "overall_scores = pos_scores + neg_scores\n",
    "scoring_results[path] = overall_scores\n",
    "\n",
    "#Optimized\n",
    "path = 'optimization/opt_PAM100'\n",
    "scoring_matrix = read_scoring_matrix(path)\n",
    "pos_scores = [score_alignment(x[0], x[1], scoring_matrix, 5, 3) for x in pos_seq]\n",
    "neg_scores = [score_alignment(x[0], x[1], scoring_matrix, 5, 3) for x in neg_seq]\n",
    "threshold = sorted(pos_scores)[14]\n",
    "false_pos = np.sum(np.array(neg_scores) > threshold)/len(neg_scores)\n",
    "true_pos = np.sum(np.array(pos_scores) > threshold)/len(pos_scores)\n",
    "fp_result_scoring[path] = [false_pos,true_pos]\n",
    "overall_scores = pos_scores + neg_scores\n",
    "scoring_results[path] = overall_scores\n",
    "\n",
    "#Optimized New alignments\n",
    "path = 'optimization/opt_PAM100'\n",
    "pos_pairs = read_pairs('pairs/Pospairs.txt')\n",
    "neg_pairs = read_pairs('pairs/Negpairs.txt')\n",
    "pos_scores = [smith_waterman(x[0], x[1], path, 5, 3) for x in pos_pairs]\n",
    "neg_scores = [smith_waterman(x[0], x[1], path, 5, 3) for x in neg_pairs]\n",
    "threshold = sorted(pos_scores)[14]\n",
    "false_pos = np.sum(np.array(neg_scores) > threshold)/len(neg_scores)\n",
    "true_pos = np.sum(np.array(pos_scores) > threshold)/len(pos_scores)\n",
    "fp_result_scoring[path + 'calc'] = [false_pos,true_pos]\n",
    "overall_scores = pos_scores + neg_scores\n",
    "scoring_results[path + 'calc'] = overall_scores\n",
    "\n",
    "y_true = [1]*len(pos_pairs) + [0]*len(neg_pairs)\n",
    "fpr = dict()\n",
    "tpr = dict()\n",
    "roc_auc = dict()\n",
    "\n",
    "for path in list(scoring_results.keys()):\n",
    "    fpr[path], tpr[path], _ = roc_curve(y_true, scoring_results[path])\n",
    "    roc_auc[path] = auc(fpr[path], tpr[path])\n",
    "\n",
    "colors = ['deeppink','aqua', 'darkorange']\n",
    "i = 0\n",
    "for path in list(scoring_results_adj.keys()): \n",
    "    plt.plot(fpr[path], tpr[path], color=colors[i], lw=2,\n",
    "                 label='ROC curve of class {0} (area = {1:0.2f})'\n",
    "                 ''.format(path, roc_auc[path]))\n",
    "    i = i+1\n",
    "\n",
    "plt.plot([0, 1], [0, 1], 'k--', lw=2)\n",
    "plt.xlim([0.0, 1.0])\n",
    "plt.ylim([0.0, 1.05])\n",
    "plt.xlabel('False Positive Rate')\n",
    "plt.ylabel('True Positive Rate')\n",
    "plt.title('ROC for original,optimized, and re-aligned sequences with optimized matrix scoring for PAM100 matrix')\n",
    "plt.legend(loc=\"lower right\")\n",
    "plt.show()\n",
    "\n",
    " "
   ]
  },
  {
   "cell_type": "code",
   "execution_count": null,
   "metadata": {},
   "outputs": [],
   "source": []
  },
  {
   "cell_type": "code",
   "execution_count": 369,
   "metadata": {},
   "outputs": [
    {
     "data": {
      "image/png": "[encoded data removed]",
      "text/plain": [
       "<Figure size 432x288 with 1 Axes>"
      ]
     },
     "metadata": {
      "needs_background": "light"
     },
     "output_type": "display_data"
    }
   ],
   "source": [
    "y_true = [1]*len(pos_pairs) + [0]*len(neg_pairs)\n",
    "fpr = dict()\n",
    "tpr = dict()\n",
    "roc_auc = dict()\n",
    "\n",
    "for path in list(scoring_results.keys()):\n",
    "    fpr[path], tpr[path], _ = roc_curve(y_true, scoring_results[path])\n",
    "    roc_auc[path] = auc(fpr[path], tpr[path])\n",
    "\n",
    "colors = ['deeppink','aqua', 'darkorange']\n",
    "i = 0\n",
    "for path in list(scoring_results.keys()): \n",
    "    plt.plot(fpr[path], tpr[path], color=colors[i], lw=2,\n",
    "                 label='ROC curve of class {0} (area = {1:0.2f})'\n",
    "                 ''.format(path, roc_auc[path]))\n",
    "    i = i+1\n",
    "\n",
    "plt.plot([0, 1], [0, 1], 'k--', lw=2)\n",
    "plt.xlim([0.0, 1.0])\n",
    "plt.ylim([0.0, 1.05])\n",
    "plt.xlabel('False Positive Rate')\n",
    "plt.ylabel('True Positive Rate')\n",
    "plt.title('ROC for original,optimized, and re-aligned sequences with optimized matrix scoring for PAM100 matrix')\n",
    "plt.legend(loc=\"lower right\")\n",
    "plt.show()"
   ]
  },
  {
   "cell_type": "code",
   "execution_count": 370,
   "metadata": {},
   "outputs": [
    {
     "name": "stdout",
     "output_type": "stream",
     "text": [
      "{'scoring/PAM100': [0.2, 0.66], 'optimization/opt_PAM100': [0.48, 0.7], 'optimization/opt_PAM100calc': [0.24, 0.7]}\n"
     ]
    }
   ],
   "source": [
    "print(fp_result_scoring)"
   ]
  },
  {
   "cell_type": "code",
   "execution_count": null,
   "metadata": {},
   "outputs": [],
   "source": [
    "#Plot Optimization Performance\n",
    "mean_values = [output[6][i][0] for i in range(101)]\n",
    "std_values = [output[6][i][1] for i in range(101)]\n",
    "max_values = [output[6][i][2] for i in range(101)]\n",
    "iteration_values = list(range(101))\n",
    "plt.errorbar(x=iteration_values, y=mean_values, yerr = std_values, marker='^', ecolor = \"black\")\n",
    "\n",
    "plt.xlabel('Iteration Number') \n",
    "plt.ylabel('Mean of the scores of matrices for optimizing PAM100')\n",
    "plt.show()\n",
    "\n"
   ]
  },
  {
   "cell_type": "markdown",
   "metadata": {},
   "source": [
    "Part 2.3"
   ]
  },
  {
   "cell_type": "code",
   "execution_count": null,
   "metadata": {},
   "outputs": [],
   "source": [
    "start = time.time()\n",
    "output_MATIO = optimize_scoring_matrix(pos_seq, neg_seq, 'optimization/MATIO', opt_gap, opt_ext, 100)\n",
    "print(time.time()-start)\n",
    "\n"
   ]
  },
  {
   "cell_type": "code",
   "execution_count": null,
   "metadata": {},
   "outputs": [],
   "source": [
    "write_optimal_matrix('/Users/elizabeth/Desktop/BMI203_HW3/data/optimization/opt_MATIO',100,'optimization/MATIO',output_MATIO[2],output_MATIO[3],output_MATIO[4],output_MATIO[-1])\n",
    "\n"
   ]
  },
  {
   "cell_type": "code",
   "execution_count": null,
   "metadata": {},
   "outputs": [],
   "source": [
    "#ROC\n",
    "#Plot ROC for initial alignments for original matrix and optimized matrix\n",
    "scoring_results = {}\n",
    "fp_result_scoring = {}\n",
    "#Original\n",
    "path = 'optimization/MATIO'\n",
    "scoring_matrix = read_scoring_matrix(path)\n",
    "pos_scores = [score_alignment(x[0], x[1], scoring_matrix, 5, 3) for x in pos_seq]\n",
    "neg_scores = [score_alignment(x[0], x[1], scoring_matrix, 5, 3) for x in neg_seq]\n",
    "threshold = sorted(pos_scores)[14]\n",
    "false_pos = np.sum(np.array(neg_scores) > threshold)/len(neg_scores)\n",
    "true_pos = np.sum(np.array(pos_scores) > threshold)/len(pos_scores)\n",
    "fp_result_scoring[path] = [false_pos,true_pos]\n",
    "overall_scores = pos_scores + neg_scores\n",
    "scoring_results[path] = overall_scores\n",
    "\n",
    "#Optimized\n",
    "path = 'optimization/MATIO'\n",
    "scoring_matrix = read_scoring_matrix(path)\n",
    "pos_scores = [score_alignment(x[0], x[0], scoring_matrix, 5, 3) for x in pos_seq]\n",
    "neg_scores = [score_alignment(x[0], x[0], scoring_matrix, 5, 3) for x in neg_seq]\n",
    "threshold = sorted(pos_scores)[14]\n",
    "false_pos = np.sum(np.array(neg_scores) > threshold)/len(neg_scores)\n",
    "true_pos = np.sum(np.array(pos_scores) > threshold)/len(pos_scores)\n",
    "fp_result_scoring[path] = [false_pos,true_pos]\n",
    "overall_scores = pos_scores + neg_scores\n",
    "scoring_results[path] = overall_scores\n",
    "\n",
    "#Optimized New alignments\n",
    "path = 'optimization/MATIO'\n",
    "pos_pairs = read_pairs('pairs/Pospairs.txt')\n",
    "neg_pairs = read_pairs('pairs/Negpairs.txt')\n",
    "pos_scores = [smith_waterman(x[0], x[1], path, 5, 3) for x in pos_pairs]\n",
    "neg_scores = [smith_waterman(x[0], x[1], path, 5, 3) for x in neg_pairs]\n",
    "threshold = sorted(pos_scores)[14]\n",
    "false_pos = np.sum(np.array(neg_scores) > threshold)/len(neg_scores)\n",
    "true_pos = np.sum(np.array(pos_scores) > threshold)/len(pos_scores)\n",
    "fp_result_scoring[path + 'calc'] = [false_pos,true_pos]\n",
    "overall_scores = pos_scores + neg_scores\n",
    "scoring_results[path + 'calc'] = overall_scores\n",
    "\n",
    "y_true = [1]*len(pos_pairs) + [0]*len(neg_pairs)\n",
    "fpr_adj = dict()\n",
    "tpr_adj = dict()\n",
    "roc_auc_adj = dict()\n",
    "\n",
    "for path in list(scoring_results.keys()):\n",
    "    fpr[path], tpr[path], _ = roc_curve(y_true, scoring_results[path])\n",
    "    roc_auc[path] = auc(fpr[path], tpr[path])\n",
    "\n",
    "colors = ['deeppink','aqua', 'darkorange']\n",
    "i = 0\n",
    "for path in list(scoring_results_adj.keys()): \n",
    "    plt.plot(fpr[path], tpr[path], color=colors[i], lw=2,\n",
    "                 label='ROC curve of class {0} (area = {1:0.2f})'\n",
    "                 ''.format(path, roc_auc[path]))\n",
    "    i = i+1\n",
    "\n",
    "plt.plot([0, 1], [0, 1], 'k--', lw=2)\n",
    "plt.xlim([0.0, 1.0])\n",
    "plt.ylim([0.0, 1.05])\n",
    "plt.xlabel('False Positive Rate')\n",
    "plt.ylabel('True Positive Rate')\n",
    "plt.title('ROC for original,optimized, and re-aligned sequences with optimized matrix scoring for MATIO matrix')\n",
    "plt.legend(loc=\"lower right\")\n",
    "plt.show()"
   ]
  },
  {
   "cell_type": "code",
   "execution_count": null,
   "metadata": {},
   "outputs": [],
   "source": [
    "print(fp_result_scoring)"
   ]
  },
  {
   "cell_type": "code",
   "execution_count": null,
   "metadata": {},
   "outputs": [],
   "source": [
    "#Plot Optimization Performance\n",
    "mean_values = [output_MATIO[6][i][0] for i in range(101)]\n",
    "std_values = [output_MATIO[6][i][1] for i in range(101)]\n",
    "max_values = [output_MATIO[6][i][2] for i in range(101)]\n",
    "iteration_values = list(range(101))\n",
    "plt.errorbar(x=iteration_values, y=mean_values, yerr = std_values, marker='^', ecolor = \"black\")\n",
    "\n",
    "plt.xlabel('Iteration Number') \n",
    "plt.ylabel('Mean of the scores of matrices for optimizing MATIO')\n",
    "plt.show()"
   ]
  }
 ],
 "metadata": {
  "kernelspec": {
   "display_name": "hw3",
   "language": "python",
   "name": "hw3"
  },
  "language_info": {
   "codemirror_mode": {
    "name": "ipython",
    "version": 3
   },
   "file_extension": ".py",
   "mimetype": "text/x-python",
   "name": "python",
   "nbconvert_exporter": "python",
   "pygments_lexer": "ipython3",
   "version": "3.7.0"
  }
 },
 "nbformat": 4,
 "nbformat_minor": 2
}
